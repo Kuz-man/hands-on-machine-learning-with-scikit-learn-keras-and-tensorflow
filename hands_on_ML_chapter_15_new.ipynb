{
  "nbformat": 4,
  "nbformat_minor": 0,
  "metadata": {
    "colab": {
      "name": "hands_on_ML_chapter_15_new.ipynb",
      "provenance": [],
      "collapsed_sections": [],
      "authorship_tag": "ABX9TyPUb1GzXUbB2VN+lTKTkgiT",
      "include_colab_link": true
    },
    "kernelspec": {
      "name": "python3",
      "display_name": "Python 3"
    }
  },
  "cells": [
    {
      "cell_type": "markdown",
      "metadata": {
        "id": "view-in-github",
        "colab_type": "text"
      },
      "source": [
        "<a href=\"https://colab.research.google.com/github/Kuz-man/hands-on-machine-learning-with-scikit-learn-keras-and-tensorflow/blob/master/hands_on_ML_chapter_15_new.ipynb\" target=\"_parent\"><img src=\"https://colab.research.google.com/assets/colab-badge.svg\" alt=\"Open In Colab\"/></a>"
      ]
    },
    {
      "cell_type": "code",
      "metadata": {
        "id": "RdgxDdZIkUaD"
      },
      "source": [
        "import numpy as np\r\n",
        "\r\n",
        "def generate_time_series(batch_size, n_steps):\r\n",
        "  freq1, freq2, offsets1, offsets2 = np.random.rand(4, batch_size, 1)\r\n",
        "  time = np.linspace(0, 1, n_steps)\r\n",
        "  series = 0.5 * np.sin((time - offsets1) * (freq1 * 10 + 10)) # wave 1\r\n",
        "  series += 0.5 * np.sin((time - offsets2) * (freq2 * 20 + 20)) # wave 2\r\n",
        "  series = 0.1 * (np.random.rand(batch_size, n_steps)) # noise\r\n",
        "  return series[..., np.newaxis].astype(np.float32)"
      ],
      "execution_count": null,
      "outputs": []
    },
    {
      "cell_type": "code",
      "metadata": {
        "colab": {
          "base_uri": "https://localhost:8080/"
        },
        "id": "NhGVBCIDryCv",
        "outputId": "90d016df-7e16-4189-a1c2-65ffc7f440b8"
      },
      "source": [
        "n_steps = 50\r\n",
        "batch_size = 10000\r\n",
        "series = generate_time_series(batch_size, n_steps+1)\r\n",
        "series.shape"
      ],
      "execution_count": null,
      "outputs": [
        {
          "output_type": "execute_result",
          "data": {
            "text/plain": [
              "(10000, 51, 1)"
            ]
          },
          "metadata": {
            "tags": []
          },
          "execution_count": 16
        }
      ]
    },
    {
      "cell_type": "code",
      "metadata": {
        "id": "qDFmMQn9r6Tf"
      },
      "source": [
        "X_train, y_train = series[:7000, :n_steps], series[:7000, -1]\r\n",
        "X_valid, y_valid = series[7000:9000, :n_steps], series[7000:9000, -1]\r\n",
        "X_test, y_test = series[9000:, :n_steps], series[9000:, -1]"
      ],
      "execution_count": null,
      "outputs": []
    },
    {
      "cell_type": "code",
      "metadata": {
        "colab": {
          "base_uri": "https://localhost:8080/"
        },
        "id": "tbIT5E9bspz0",
        "outputId": "eedecc31-5657-4df4-d5ed-fa8543e392d8"
      },
      "source": [
        "from tensorflow import keras\r\n",
        "\r\n",
        "# baseline metric, last item in the series\r\n",
        "y_pred = X_valid[:, -1]\r\n",
        "np.mean(keras.losses.mean_squared_error(y_valid, y_pred))"
      ],
      "execution_count": null,
      "outputs": [
        {
          "output_type": "execute_result",
          "data": {
            "text/plain": [
              "0.0016806987"
            ]
          },
          "metadata": {
            "tags": []
          },
          "execution_count": 18
        }
      ]
    },
    {
      "cell_type": "code",
      "metadata": {
        "id": "HF2gJ62CtEjV"
      },
      "source": [
        "# simple linear model\r\n",
        "\r\n",
        "model = keras.models.Sequential([\r\n",
        "                                 keras.layers.Flatten(input_shape=[50, 1]),\r\n",
        "                                 keras.layers.Dense(1)\r\n",
        "])"
      ],
      "execution_count": null,
      "outputs": []
    },
    {
      "cell_type": "code",
      "metadata": {
        "colab": {
          "base_uri": "https://localhost:8080/"
        },
        "id": "N4QJNytFtgjJ",
        "outputId": "d682ce53-0925-4ab7-b5b4-e8de32691606"
      },
      "source": [
        "model.compile(optimizer=\"Adam\", loss='MSE', metrics=['mse'])\r\n",
        "model.fit(X_train, y_train, epochs=20)"
      ],
      "execution_count": null,
      "outputs": [
        {
          "output_type": "stream",
          "text": [
            "Epoch 1/20\n",
            "219/219 [==============================] - 0s 815us/step - loss: 0.0033 - mse: 0.0033\n",
            "Epoch 2/20\n",
            "219/219 [==============================] - 0s 836us/step - loss: 0.0022 - mse: 0.0022\n",
            "Epoch 3/20\n",
            "219/219 [==============================] - 0s 851us/step - loss: 0.0018 - mse: 0.0018\n",
            "Epoch 4/20\n",
            "219/219 [==============================] - 0s 802us/step - loss: 0.0014 - mse: 0.0014\n",
            "Epoch 5/20\n",
            "219/219 [==============================] - 0s 817us/step - loss: 0.0012 - mse: 0.0012\n",
            "Epoch 6/20\n",
            "219/219 [==============================] - 0s 867us/step - loss: 0.0010 - mse: 0.0010\n",
            "Epoch 7/20\n",
            "219/219 [==============================] - 0s 825us/step - loss: 9.4541e-04 - mse: 9.4541e-04\n",
            "Epoch 8/20\n",
            "219/219 [==============================] - 0s 894us/step - loss: 8.9246e-04 - mse: 8.9246e-04\n",
            "Epoch 9/20\n",
            "219/219 [==============================] - 0s 833us/step - loss: 8.6326e-04 - mse: 8.6326e-04\n",
            "Epoch 10/20\n",
            "219/219 [==============================] - 0s 852us/step - loss: 8.4709e-04 - mse: 8.4709e-04\n",
            "Epoch 11/20\n",
            "219/219 [==============================] - 0s 829us/step - loss: 8.4227e-04 - mse: 8.4227e-04\n",
            "Epoch 12/20\n",
            "219/219 [==============================] - 0s 818us/step - loss: 8.3926e-04 - mse: 8.3926e-04\n",
            "Epoch 13/20\n",
            "219/219 [==============================] - 0s 830us/step - loss: 8.3718e-04 - mse: 8.3718e-04\n",
            "Epoch 14/20\n",
            "219/219 [==============================] - 0s 830us/step - loss: 8.3637e-04 - mse: 8.3637e-04\n",
            "Epoch 15/20\n",
            "219/219 [==============================] - 0s 832us/step - loss: 8.3818e-04 - mse: 8.3818e-04\n",
            "Epoch 16/20\n",
            "219/219 [==============================] - 0s 847us/step - loss: 8.4098e-04 - mse: 8.4098e-04\n",
            "Epoch 17/20\n",
            "219/219 [==============================] - 0s 882us/step - loss: 8.4073e-04 - mse: 8.4073e-04\n",
            "Epoch 18/20\n",
            "219/219 [==============================] - 0s 814us/step - loss: 8.3530e-04 - mse: 8.3530e-04\n",
            "Epoch 19/20\n",
            "219/219 [==============================] - 0s 825us/step - loss: 8.3720e-04 - mse: 8.3720e-04\n",
            "Epoch 20/20\n",
            "219/219 [==============================] - 0s 830us/step - loss: 8.4204e-04 - mse: 8.4204e-04\n"
          ],
          "name": "stdout"
        },
        {
          "output_type": "execute_result",
          "data": {
            "text/plain": [
              "<tensorflow.python.keras.callbacks.History at 0x7fb216ac3eb8>"
            ]
          },
          "metadata": {
            "tags": []
          },
          "execution_count": 20
        }
      ]
    },
    {
      "cell_type": "code",
      "metadata": {
        "colab": {
          "base_uri": "https://localhost:8080/"
        },
        "id": "93NYN6mIuEWN",
        "outputId": "9c18cb3a-c255-430e-b80f-61305b20ed82"
      },
      "source": [
        "y_pred = model.predict(X_valid)\r\n",
        "np.mean(keras.losses.mean_squared_error(y_valid, y_pred))"
      ],
      "execution_count": null,
      "outputs": [
        {
          "output_type": "execute_result",
          "data": {
            "text/plain": [
              "0.0008760233"
            ]
          },
          "metadata": {
            "tags": []
          },
          "execution_count": 21
        }
      ]
    },
    {
      "cell_type": "code",
      "metadata": {
        "colab": {
          "base_uri": "https://localhost:8080/"
        },
        "id": "T1u0H02auLnu",
        "outputId": "e46b7f44-1ded-45c7-cc1c-ed6c977713f2"
      },
      "source": [
        "model = keras.models.Sequential([\r\n",
        "                                 keras.layers.SimpleRNN(1, input_shape=[None, 1])\r\n",
        "])\r\n",
        "model.compile(optimizer=\"Adam\", loss='MSE', metrics=['mse'])\r\n",
        "model.fit(X_train, y_train, epochs=20)"
      ],
      "execution_count": null,
      "outputs": [
        {
          "output_type": "stream",
          "text": [
            "Epoch 1/20\n",
            "219/219 [==============================] - 1s 6ms/step - loss: 0.0087 - mse: 0.0087\n",
            "Epoch 2/20\n",
            "219/219 [==============================] - 1s 6ms/step - loss: 0.0033 - mse: 0.0033\n",
            "Epoch 3/20\n",
            "219/219 [==============================] - 1s 6ms/step - loss: 0.0024 - mse: 0.0024\n",
            "Epoch 4/20\n",
            "219/219 [==============================] - 1s 5ms/step - loss: 0.0019 - mse: 0.0019\n",
            "Epoch 5/20\n",
            "219/219 [==============================] - 1s 6ms/step - loss: 0.0015 - mse: 0.0015\n",
            "Epoch 6/20\n",
            "219/219 [==============================] - 1s 6ms/step - loss: 0.0013 - mse: 0.0013\n",
            "Epoch 7/20\n",
            "219/219 [==============================] - 1s 6ms/step - loss: 0.0012 - mse: 0.0012\n",
            "Epoch 8/20\n",
            "219/219 [==============================] - 1s 6ms/step - loss: 0.0010 - mse: 0.0010\n",
            "Epoch 9/20\n",
            "219/219 [==============================] - 1s 6ms/step - loss: 9.6592e-04 - mse: 9.6592e-04\n",
            "Epoch 10/20\n",
            "219/219 [==============================] - 1s 6ms/step - loss: 9.1481e-04 - mse: 9.1481e-04\n",
            "Epoch 11/20\n",
            "219/219 [==============================] - 1s 6ms/step - loss: 8.8085e-04 - mse: 8.8085e-04\n",
            "Epoch 12/20\n",
            "219/219 [==============================] - 1s 6ms/step - loss: 8.6041e-04 - mse: 8.6041e-04\n",
            "Epoch 13/20\n",
            "219/219 [==============================] - 1s 6ms/step - loss: 8.4839e-04 - mse: 8.4839e-04\n",
            "Epoch 14/20\n",
            "219/219 [==============================] - 1s 6ms/step - loss: 8.4155e-04 - mse: 8.4155e-04\n",
            "Epoch 15/20\n",
            "219/219 [==============================] - 1s 6ms/step - loss: 8.3910e-04 - mse: 8.3910e-04\n",
            "Epoch 16/20\n",
            "219/219 [==============================] - 1s 6ms/step - loss: 8.3765e-04 - mse: 8.3765e-04\n",
            "Epoch 17/20\n",
            "219/219 [==============================] - 1s 6ms/step - loss: 8.3628e-04 - mse: 8.3628e-04\n",
            "Epoch 18/20\n",
            "219/219 [==============================] - 1s 6ms/step - loss: 8.3605e-04 - mse: 8.3605e-04\n",
            "Epoch 19/20\n",
            "219/219 [==============================] - 1s 6ms/step - loss: 8.3696e-04 - mse: 8.3696e-04\n",
            "Epoch 20/20\n",
            "219/219 [==============================] - 1s 6ms/step - loss: 8.3660e-04 - mse: 8.3660e-04\n"
          ],
          "name": "stdout"
        },
        {
          "output_type": "execute_result",
          "data": {
            "text/plain": [
              "<tensorflow.python.keras.callbacks.History at 0x7fb2137d7fd0>"
            ]
          },
          "metadata": {
            "tags": []
          },
          "execution_count": 28
        }
      ]
    },
    {
      "cell_type": "code",
      "metadata": {
        "colab": {
          "base_uri": "https://localhost:8080/"
        },
        "id": "hrQ5m3N1vtR8",
        "outputId": "f7d7418b-8111-4e17-99f7-df9dfec024cf"
      },
      "source": [
        "y_pred = model.predict(X_valid)\r\n",
        "np.mean(keras.losses.mean_squared_error(y_pred, y_valid))"
      ],
      "execution_count": null,
      "outputs": [
        {
          "output_type": "execute_result",
          "data": {
            "text/plain": [
              "0.00083277386"
            ]
          },
          "metadata": {
            "tags": []
          },
          "execution_count": 29
        }
      ]
    },
    {
      "cell_type": "code",
      "metadata": {
        "colab": {
          "base_uri": "https://localhost:8080/"
        },
        "id": "yeRrkrVAv1KN",
        "outputId": "20b28114-a1fa-46c3-b580-a3a34814994e"
      },
      "source": [
        "# Deep RNN\r\n",
        "model = keras.models.Sequential([\r\n",
        "                                 keras.layers.SimpleRNN(20, return_sequences=True, input_shape=[None, 1]),\r\n",
        "                                 keras.layers.SimpleRNN(20, return_sequences=True),\r\n",
        "                                 keras.layers.SimpleRNN(1),\r\n",
        "])\r\n",
        "\r\n",
        "model.compile(optimizer=\"Adam\", loss='MSE', metrics=['mse'])\r\n",
        "model.fit(X_train, y_train, epochs=20)"
      ],
      "execution_count": null,
      "outputs": [
        {
          "output_type": "stream",
          "text": [
            "Epoch 1/20\n",
            "219/219 [==============================] - 5s 21ms/step - loss: 0.0034 - mse: 0.0034\n",
            "Epoch 2/20\n",
            "219/219 [==============================] - 4s 20ms/step - loss: 9.1180e-04 - mse: 9.1180e-04\n",
            "Epoch 3/20\n",
            "219/219 [==============================] - 4s 20ms/step - loss: 8.9819e-04 - mse: 8.9819e-04\n",
            "Epoch 4/20\n",
            "219/219 [==============================] - 4s 20ms/step - loss: 8.9404e-04 - mse: 8.9404e-04\n",
            "Epoch 5/20\n",
            "219/219 [==============================] - 4s 20ms/step - loss: 8.7365e-04 - mse: 8.7365e-04\n",
            "Epoch 6/20\n",
            "219/219 [==============================] - 4s 20ms/step - loss: 8.8672e-04 - mse: 8.8672e-04\n",
            "Epoch 7/20\n",
            "219/219 [==============================] - 4s 20ms/step - loss: 8.7758e-04 - mse: 8.7758e-04\n",
            "Epoch 8/20\n",
            "219/219 [==============================] - 4s 20ms/step - loss: 8.7562e-04 - mse: 8.7562e-04\n",
            "Epoch 9/20\n",
            "219/219 [==============================] - 4s 20ms/step - loss: 8.7376e-04 - mse: 8.7376e-04\n",
            "Epoch 10/20\n",
            "219/219 [==============================] - 4s 20ms/step - loss: 8.7950e-04 - mse: 8.7950e-04\n",
            "Epoch 11/20\n",
            "219/219 [==============================] - 4s 20ms/step - loss: 8.8127e-04 - mse: 8.8127e-04\n",
            "Epoch 12/20\n",
            "219/219 [==============================] - 5s 21ms/step - loss: 8.6151e-04 - mse: 8.6151e-04\n",
            "Epoch 13/20\n",
            "219/219 [==============================] - 4s 20ms/step - loss: 8.8718e-04 - mse: 8.8718e-04\n",
            "Epoch 14/20\n",
            "219/219 [==============================] - 4s 21ms/step - loss: 8.6095e-04 - mse: 8.6095e-04\n",
            "Epoch 15/20\n",
            "219/219 [==============================] - 4s 20ms/step - loss: 8.7364e-04 - mse: 8.7364e-04\n",
            "Epoch 16/20\n",
            "219/219 [==============================] - 5s 21ms/step - loss: 8.7634e-04 - mse: 8.7634e-04\n",
            "Epoch 17/20\n",
            "219/219 [==============================] - 5s 22ms/step - loss: 8.8863e-04 - mse: 8.8863e-04\n",
            "Epoch 18/20\n",
            "219/219 [==============================] - 5s 21ms/step - loss: 8.8620e-04 - mse: 8.8620e-04\n",
            "Epoch 19/20\n",
            "219/219 [==============================] - 4s 20ms/step - loss: 8.6197e-04 - mse: 8.6197e-04\n",
            "Epoch 20/20\n",
            "219/219 [==============================] - 4s 20ms/step - loss: 8.6818e-04 - mse: 8.6818e-04\n"
          ],
          "name": "stdout"
        },
        {
          "output_type": "execute_result",
          "data": {
            "text/plain": [
              "<tensorflow.python.keras.callbacks.History at 0x7fb216aeaf28>"
            ]
          },
          "metadata": {
            "tags": []
          },
          "execution_count": 30
        }
      ]
    },
    {
      "cell_type": "code",
      "metadata": {
        "colab": {
          "base_uri": "https://localhost:8080/"
        },
        "id": "1Yzg_3Ln1DEb",
        "outputId": "e0422a48-9609-4226-f850-005fb30b7298"
      },
      "source": [
        "y_pred = model.predict(X_valid)\r\n",
        "np.mean(keras.losses.mean_squared_error(y_pred, y_valid))"
      ],
      "execution_count": null,
      "outputs": [
        {
          "output_type": "execute_result",
          "data": {
            "text/plain": [
              "0.00084323745"
            ]
          },
          "metadata": {
            "tags": []
          },
          "execution_count": 31
        }
      ]
    },
    {
      "cell_type": "code",
      "metadata": {
        "colab": {
          "base_uri": "https://localhost:8080/"
        },
        "id": "SzbSvED51Gu-",
        "outputId": "de697e10-7e97-450d-842b-c6b6db358eb0"
      },
      "source": [
        "# Deep RNN\r\n",
        "model = keras.models.Sequential([\r\n",
        "                                 keras.layers.SimpleRNN(20, return_sequences=True, input_shape=[None, 1]),\r\n",
        "                                 keras.layers.SimpleRNN(20),\r\n",
        "                                 keras.layers.Dense(1),\r\n",
        "])\r\n",
        "\r\n",
        "model.compile(optimizer=\"Adam\", loss='MSE', metrics=['mse'])\r\n",
        "model.fit(X_train, y_train, epochs=20)\r\n",
        "\r\n",
        "y_pred = model.predict(X_valid)\r\n",
        "np.mean(keras.losses.mean_squared_error(y_pred, y_valid))"
      ],
      "execution_count": null,
      "outputs": [
        {
          "output_type": "stream",
          "text": [
            "Epoch 1/20\n",
            "219/219 [==============================] - 3s 15ms/step - loss: 0.0024 - mse: 0.0024\n",
            "Epoch 2/20\n",
            "219/219 [==============================] - 3s 14ms/step - loss: 9.6956e-04 - mse: 9.6956e-04\n",
            "Epoch 3/20\n",
            "219/219 [==============================] - 3s 14ms/step - loss: 9.2485e-04 - mse: 9.2485e-04\n",
            "Epoch 4/20\n",
            "219/219 [==============================] - 3s 14ms/step - loss: 9.7623e-04 - mse: 9.7623e-04\n",
            "Epoch 5/20\n",
            "219/219 [==============================] - 3s 14ms/step - loss: 9.1613e-04 - mse: 9.1613e-04\n",
            "Epoch 6/20\n",
            "219/219 [==============================] - 3s 14ms/step - loss: 9.3924e-04 - mse: 9.3924e-04\n",
            "Epoch 7/20\n",
            "219/219 [==============================] - 3s 14ms/step - loss: 9.3866e-04 - mse: 9.3866e-04\n",
            "Epoch 8/20\n",
            "219/219 [==============================] - 3s 14ms/step - loss: 9.2482e-04 - mse: 9.2482e-04\n",
            "Epoch 9/20\n",
            "219/219 [==============================] - 3s 14ms/step - loss: 9.1135e-04 - mse: 9.1135e-04\n",
            "Epoch 10/20\n",
            "219/219 [==============================] - 3s 14ms/step - loss: 9.3079e-04 - mse: 9.3079e-04\n",
            "Epoch 11/20\n",
            "219/219 [==============================] - 3s 14ms/step - loss: 8.8874e-04 - mse: 8.8874e-04\n",
            "Epoch 12/20\n",
            "219/219 [==============================] - 3s 14ms/step - loss: 9.4379e-04 - mse: 9.4379e-04\n",
            "Epoch 13/20\n",
            "219/219 [==============================] - 3s 14ms/step - loss: 8.9894e-04 - mse: 8.9894e-04\n",
            "Epoch 14/20\n",
            "219/219 [==============================] - 3s 14ms/step - loss: 9.0758e-04 - mse: 9.0758e-04\n",
            "Epoch 15/20\n",
            "219/219 [==============================] - 3s 14ms/step - loss: 9.1867e-04 - mse: 9.1867e-04\n",
            "Epoch 16/20\n",
            "219/219 [==============================] - 3s 14ms/step - loss: 9.4250e-04 - mse: 9.4250e-04\n",
            "Epoch 17/20\n",
            "219/219 [==============================] - 3s 14ms/step - loss: 9.0962e-04 - mse: 9.0962e-04\n",
            "Epoch 18/20\n",
            "219/219 [==============================] - 3s 14ms/step - loss: 9.2043e-04 - mse: 9.2043e-04\n",
            "Epoch 19/20\n",
            "219/219 [==============================] - 3s 14ms/step - loss: 9.0924e-04 - mse: 9.0924e-04\n",
            "Epoch 20/20\n",
            "219/219 [==============================] - 3s 14ms/step - loss: 8.9136e-04 - mse: 8.9136e-04\n"
          ],
          "name": "stdout"
        },
        {
          "output_type": "execute_result",
          "data": {
            "text/plain": [
              "0.0008339863"
            ]
          },
          "metadata": {
            "tags": []
          },
          "execution_count": 32
        }
      ]
    },
    {
      "cell_type": "code",
      "metadata": {
        "id": "Z6FqlTwx1dq5"
      },
      "source": [
        "# forecast 10 steps\r\n",
        "series = generate_time_series(10000, n_steps+10)\r\n",
        "X_train, Y_train = series[:7000, :n_steps], series[:7000, -10:, 0]\r\n",
        "X_valid, Y_valid = series[7000:9000, :n_steps], series[7000:9000, -10:, 0]\r\n",
        "X_test, Y_test = series[9000:, :n_steps], series[9000:, -10:, 0]"
      ],
      "execution_count": null,
      "outputs": []
    },
    {
      "cell_type": "code",
      "metadata": {
        "colab": {
          "base_uri": "https://localhost:8080/"
        },
        "id": "U6qxUZGhATOE",
        "outputId": "87d686d1-0dae-4072-fcc5-95113db923fb"
      },
      "source": [
        "(X_train.shape, Y_train.shape)"
      ],
      "execution_count": null,
      "outputs": [
        {
          "output_type": "execute_result",
          "data": {
            "text/plain": [
              "((7000, 50, 1), (7000, 10))"
            ]
          },
          "metadata": {
            "tags": []
          },
          "execution_count": 35
        }
      ]
    },
    {
      "cell_type": "code",
      "metadata": {
        "id": "7SOyc59UAYBH"
      },
      "source": [
        "model = keras.models.Sequential([\r\n",
        "                                 keras.layers.SimpleRNN(20, return_sequences=True, input_shape=[None, 1]),\r\n",
        "                                 keras.layers.SimpleRNN(20),\r\n",
        "                                 keras.layers.Dense(10)\r\n",
        "])"
      ],
      "execution_count": null,
      "outputs": []
    },
    {
      "cell_type": "code",
      "metadata": {
        "colab": {
          "base_uri": "https://localhost:8080/"
        },
        "id": "4aSs_YPnAlhh",
        "outputId": "aa05e9ad-73a3-46d8-8bee-463f4bdcb745"
      },
      "source": [
        "model.compile(optimizer='rmsprop', loss='MSE', metrics=['MSE'])\r\n",
        "model.fit(X_train, Y_train, epochs=10)"
      ],
      "execution_count": null,
      "outputs": [
        {
          "output_type": "stream",
          "text": [
            "Epoch 1/10\n",
            "219/219 [==============================] - 3s 14ms/step - loss: 0.0024 - MSE: 0.0024\n",
            "Epoch 2/10\n",
            "219/219 [==============================] - 3s 14ms/step - loss: 8.6205e-04 - MSE: 8.6205e-04\n",
            "Epoch 3/10\n",
            "219/219 [==============================] - 3s 14ms/step - loss: 8.4989e-04 - MSE: 8.4989e-04\n",
            "Epoch 4/10\n",
            "219/219 [==============================] - 3s 14ms/step - loss: 8.4604e-04 - MSE: 8.4604e-04\n",
            "Epoch 5/10\n",
            "219/219 [==============================] - 3s 14ms/step - loss: 8.4412e-04 - MSE: 8.4412e-04\n",
            "Epoch 6/10\n",
            "219/219 [==============================] - 3s 14ms/step - loss: 8.4298e-04 - MSE: 8.4298e-04\n",
            "Epoch 7/10\n",
            "219/219 [==============================] - 3s 14ms/step - loss: 8.4222e-04 - MSE: 8.4222e-04\n",
            "Epoch 8/10\n",
            "219/219 [==============================] - 3s 14ms/step - loss: 8.4051e-04 - MSE: 8.4051e-04\n",
            "Epoch 9/10\n",
            "219/219 [==============================] - 3s 14ms/step - loss: 8.4065e-04 - MSE: 8.4065e-04\n",
            "Epoch 10/10\n",
            "219/219 [==============================] - 3s 14ms/step - loss: 8.3991e-04 - MSE: 8.3991e-04\n"
          ],
          "name": "stdout"
        },
        {
          "output_type": "execute_result",
          "data": {
            "text/plain": [
              "<tensorflow.python.keras.callbacks.History at 0x7fb21146ada0>"
            ]
          },
          "metadata": {
            "tags": []
          },
          "execution_count": 37
        }
      ]
    },
    {
      "cell_type": "code",
      "metadata": {
        "id": "5uyeQeWoAuba"
      },
      "source": [
        "Y_pred = model.predict(X_valid)"
      ],
      "execution_count": null,
      "outputs": []
    },
    {
      "cell_type": "code",
      "metadata": {
        "colab": {
          "base_uri": "https://localhost:8080/"
        },
        "id": "DAit2al-BFC8",
        "outputId": "ed84dd69-db35-4876-a00e-87bbe1b9990b"
      },
      "source": [
        "np.mean(keras.losses.mean_squared_error(y_pred, y_valid))"
      ],
      "execution_count": null,
      "outputs": [
        {
          "output_type": "execute_result",
          "data": {
            "text/plain": [
              "0.0008339863"
            ]
          },
          "metadata": {
            "tags": []
          },
          "execution_count": 39
        }
      ]
    },
    {
      "cell_type": "code",
      "metadata": {
        "id": "P3WJSoGMBIwN"
      },
      "source": [
        "# forecast for every 10-next values\r\n",
        "Y = np.empty((10000, n_steps, 10))\r\n",
        "for step_ahead in range(1, 10 + 1):\r\n",
        "  Y[:, :, step_ahead - 1] = series[:, step_ahead: step_ahead + n_steps, 0]\r\n",
        "Y_train = Y[:7000]\r\n",
        "Y_valid = Y[7000:9000]\r\n",
        "Y_test = Y[9000:]"
      ],
      "execution_count": null,
      "outputs": []
    },
    {
      "cell_type": "code",
      "metadata": {
        "id": "mhXUPcOpCmbP"
      },
      "source": [
        "model = keras.models.Sequential([\r\n",
        "                                 keras.layers.SimpleRNN(20, return_sequences=True, input_shape=[None, 1]),\r\n",
        "                                 keras.layers.SimpleRNN(20, return_sequences=True),\r\n",
        "                                 keras.layers.TimeDistributed(keras.layers.Dense(10))\r\n",
        "])"
      ],
      "execution_count": null,
      "outputs": []
    },
    {
      "cell_type": "code",
      "metadata": {
        "colab": {
          "base_uri": "https://localhost:8080/"
        },
        "id": "Wy_YGHL9EJUt",
        "outputId": "d257dc73-2d88-46d6-bbf4-abe195f9be75"
      },
      "source": [
        "def last_time_step_mse(Y_true, Y_pred):\r\n",
        "  return keras.metrics.mean_squared_error(Y_true[:, -1], Y_pred[:, -1])\r\n",
        "\r\n",
        "model.compile(optimizer='RMSProp', loss='MSE', metrics=[last_time_step_mse])\r\n",
        "model.fit(X_train, Y_train, epochs=20)"
      ],
      "execution_count": null,
      "outputs": [
        {
          "output_type": "stream",
          "text": [
            "Epoch 1/20\n",
            "219/219 [==============================] - 3s 15ms/step - loss: 8.3176e-04 - last_time_step_mse: 8.3411e-04\n",
            "Epoch 2/20\n",
            "219/219 [==============================] - 3s 15ms/step - loss: 8.3172e-04 - last_time_step_mse: 8.3403e-04\n",
            "Epoch 3/20\n",
            "219/219 [==============================] - 3s 15ms/step - loss: 8.3163e-04 - last_time_step_mse: 8.3357e-04\n",
            "Epoch 4/20\n",
            "219/219 [==============================] - 3s 14ms/step - loss: 8.3174e-04 - last_time_step_mse: 8.3394e-04\n",
            "Epoch 5/20\n",
            "219/219 [==============================] - 3s 14ms/step - loss: 8.3168e-04 - last_time_step_mse: 8.3371e-04\n",
            "Epoch 6/20\n",
            "219/219 [==============================] - 3s 15ms/step - loss: 8.3170e-04 - last_time_step_mse: 8.3364e-04\n",
            "Epoch 7/20\n",
            "219/219 [==============================] - 3s 14ms/step - loss: 8.3162e-04 - last_time_step_mse: 8.3373e-04\n",
            "Epoch 8/20\n",
            "219/219 [==============================] - 3s 14ms/step - loss: 8.3175e-04 - last_time_step_mse: 8.3367e-04\n",
            "Epoch 9/20\n",
            "219/219 [==============================] - 3s 15ms/step - loss: 8.3171e-04 - last_time_step_mse: 8.3353e-04\n",
            "Epoch 10/20\n",
            "219/219 [==============================] - 3s 14ms/step - loss: 8.3163e-04 - last_time_step_mse: 8.3359e-04\n",
            "Epoch 11/20\n",
            "219/219 [==============================] - 3s 14ms/step - loss: 8.3170e-04 - last_time_step_mse: 8.3359e-04\n",
            "Epoch 12/20\n",
            "219/219 [==============================] - 3s 15ms/step - loss: 8.3165e-04 - last_time_step_mse: 8.3396e-04\n",
            "Epoch 13/20\n",
            "219/219 [==============================] - 3s 15ms/step - loss: 8.3170e-04 - last_time_step_mse: 8.3359e-04\n",
            "Epoch 14/20\n",
            "219/219 [==============================] - 3s 15ms/step - loss: 8.3168e-04 - last_time_step_mse: 8.3368e-04\n",
            "Epoch 15/20\n",
            "219/219 [==============================] - 3s 15ms/step - loss: 8.3160e-04 - last_time_step_mse: 8.3343e-04\n",
            "Epoch 16/20\n",
            "219/219 [==============================] - 3s 15ms/step - loss: 8.3176e-04 - last_time_step_mse: 8.3386e-04\n",
            "Epoch 17/20\n",
            "219/219 [==============================] - 3s 15ms/step - loss: 8.3166e-04 - last_time_step_mse: 8.3362e-04\n",
            "Epoch 18/20\n",
            "219/219 [==============================] - 3s 15ms/step - loss: 8.3173e-04 - last_time_step_mse: 8.3360e-04\n",
            "Epoch 19/20\n",
            "219/219 [==============================] - 3s 14ms/step - loss: 8.3168e-04 - last_time_step_mse: 8.3351e-04\n",
            "Epoch 20/20\n",
            "219/219 [==============================] - 3s 15ms/step - loss: 8.3159e-04 - last_time_step_mse: 8.3357e-04\n"
          ],
          "name": "stdout"
        },
        {
          "output_type": "execute_result",
          "data": {
            "text/plain": [
              "<tensorflow.python.keras.callbacks.History at 0x7fb2107e0b38>"
            ]
          },
          "metadata": {
            "tags": []
          },
          "execution_count": 43
        }
      ]
    },
    {
      "cell_type": "code",
      "metadata": {
        "id": "HyBDK3YnEUCv"
      },
      "source": [
        "class LNSimpleRNNCell(keras.layers.Layer):\r\n",
        "  def __init__(self, units, activation=\"tanh\", **kwargs):\r\n",
        "    super().__init__(**kwargs)\r\n",
        "    self.state_size = units\r\n",
        "    self.output_size = units\r\n",
        "    self.simple_rnn_cell = keras.layers.SimpleRNN(units, activation=None)\r\n",
        "    self.layer_norm = keras.layers.LayerNormalization()\r\n",
        "    self.activation = keras.activations.get(activation)\r\n",
        "\r\n",
        "  def call(self, inputs, states):\r\n",
        "    outputs, new_states = self.simple_rnn_cell(inputs, states)\r\n",
        "    norm_outputs = self.activation(self.layer_norm(outputs))\r\n",
        "    return norm_outputs, [norm_outputs]"
      ],
      "execution_count": null,
      "outputs": []
    },
    {
      "cell_type": "code",
      "metadata": {
        "colab": {
          "base_uri": "https://localhost:8080/",
          "height": 589
        },
        "id": "-x8-6ZWeHsdI",
        "outputId": "1cdf71b6-3f8a-4af5-8b24-f152b560c7d0"
      },
      "source": [
        "model = keras.models.Sequential([\r\n",
        "                                 keras.layers.RNN(LNSimpleRNNCell(20), return_sequences=True, input_shape=[None, 1]),\r\n",
        "                                 keras.layers.RNN(LNSimpleRNNCell(20), return_sequences=True),\r\n",
        "                                 keras.layers.TimeDistributed(keras.layers.Dense(10))\r\n",
        "])"
      ],
      "execution_count": null,
      "outputs": [
        {
          "output_type": "error",
          "ename": "ValueError",
          "evalue": "ignored",
          "traceback": [
            "\u001b[0;31m---------------------------------------------------------------------------\u001b[0m",
            "\u001b[0;31mValueError\u001b[0m                                Traceback (most recent call last)",
            "\u001b[0;32m<ipython-input-48-20916e30680f>\u001b[0m in \u001b[0;36m<module>\u001b[0;34m()\u001b[0m\n\u001b[1;32m      2\u001b[0m                                  \u001b[0mkeras\u001b[0m\u001b[0;34m.\u001b[0m\u001b[0mlayers\u001b[0m\u001b[0;34m.\u001b[0m\u001b[0mRNN\u001b[0m\u001b[0;34m(\u001b[0m\u001b[0mLNSimpleRNNCell\u001b[0m\u001b[0;34m(\u001b[0m\u001b[0;36m20\u001b[0m\u001b[0;34m)\u001b[0m\u001b[0;34m,\u001b[0m \u001b[0mreturn_sequences\u001b[0m\u001b[0;34m=\u001b[0m\u001b[0;32mTrue\u001b[0m\u001b[0;34m,\u001b[0m \u001b[0minput_shape\u001b[0m\u001b[0;34m=\u001b[0m\u001b[0;34m[\u001b[0m\u001b[0;32mNone\u001b[0m\u001b[0;34m,\u001b[0m \u001b[0;36m1\u001b[0m\u001b[0;34m]\u001b[0m\u001b[0;34m)\u001b[0m\u001b[0;34m,\u001b[0m\u001b[0;34m\u001b[0m\u001b[0;34m\u001b[0m\u001b[0m\n\u001b[1;32m      3\u001b[0m                                  \u001b[0mkeras\u001b[0m\u001b[0;34m.\u001b[0m\u001b[0mlayers\u001b[0m\u001b[0;34m.\u001b[0m\u001b[0mRNN\u001b[0m\u001b[0;34m(\u001b[0m\u001b[0mLNSimpleRNNCell\u001b[0m\u001b[0;34m(\u001b[0m\u001b[0;36m20\u001b[0m\u001b[0;34m)\u001b[0m\u001b[0;34m,\u001b[0m \u001b[0mreturn_sequences\u001b[0m\u001b[0;34m=\u001b[0m\u001b[0;32mTrue\u001b[0m\u001b[0;34m)\u001b[0m\u001b[0;34m,\u001b[0m\u001b[0;34m\u001b[0m\u001b[0;34m\u001b[0m\u001b[0m\n\u001b[0;32m----> 4\u001b[0;31m                                  \u001b[0mkeras\u001b[0m\u001b[0;34m.\u001b[0m\u001b[0mlayers\u001b[0m\u001b[0;34m.\u001b[0m\u001b[0mTimeDistributed\u001b[0m\u001b[0;34m(\u001b[0m\u001b[0mkeras\u001b[0m\u001b[0;34m.\u001b[0m\u001b[0mlayers\u001b[0m\u001b[0;34m.\u001b[0m\u001b[0mDense\u001b[0m\u001b[0;34m(\u001b[0m\u001b[0;36m10\u001b[0m\u001b[0;34m)\u001b[0m\u001b[0;34m)\u001b[0m\u001b[0;34m\u001b[0m\u001b[0;34m\u001b[0m\u001b[0m\n\u001b[0m\u001b[1;32m      5\u001b[0m ])\n",
            "\u001b[0;32m/usr/local/lib/python3.6/dist-packages/tensorflow/python/training/tracking/base.py\u001b[0m in \u001b[0;36m_method_wrapper\u001b[0;34m(self, *args, **kwargs)\u001b[0m\n\u001b[1;32m    455\u001b[0m     \u001b[0mself\u001b[0m\u001b[0;34m.\u001b[0m\u001b[0m_self_setattr_tracking\u001b[0m \u001b[0;34m=\u001b[0m \u001b[0;32mFalse\u001b[0m  \u001b[0;31m# pylint: disable=protected-access\u001b[0m\u001b[0;34m\u001b[0m\u001b[0;34m\u001b[0m\u001b[0m\n\u001b[1;32m    456\u001b[0m     \u001b[0;32mtry\u001b[0m\u001b[0;34m:\u001b[0m\u001b[0;34m\u001b[0m\u001b[0;34m\u001b[0m\u001b[0m\n\u001b[0;32m--> 457\u001b[0;31m       \u001b[0mresult\u001b[0m \u001b[0;34m=\u001b[0m \u001b[0mmethod\u001b[0m\u001b[0;34m(\u001b[0m\u001b[0mself\u001b[0m\u001b[0;34m,\u001b[0m \u001b[0;34m*\u001b[0m\u001b[0margs\u001b[0m\u001b[0;34m,\u001b[0m \u001b[0;34m**\u001b[0m\u001b[0mkwargs\u001b[0m\u001b[0;34m)\u001b[0m\u001b[0;34m\u001b[0m\u001b[0;34m\u001b[0m\u001b[0m\n\u001b[0m\u001b[1;32m    458\u001b[0m     \u001b[0;32mfinally\u001b[0m\u001b[0;34m:\u001b[0m\u001b[0;34m\u001b[0m\u001b[0;34m\u001b[0m\u001b[0m\n\u001b[1;32m    459\u001b[0m       \u001b[0mself\u001b[0m\u001b[0;34m.\u001b[0m\u001b[0m_self_setattr_tracking\u001b[0m \u001b[0;34m=\u001b[0m \u001b[0mprevious_value\u001b[0m  \u001b[0;31m# pylint: disable=protected-access\u001b[0m\u001b[0;34m\u001b[0m\u001b[0;34m\u001b[0m\u001b[0m\n",
            "\u001b[0;32m/usr/local/lib/python3.6/dist-packages/tensorflow/python/keras/engine/sequential.py\u001b[0m in \u001b[0;36m__init__\u001b[0;34m(self, layers, name)\u001b[0m\n\u001b[1;32m    140\u001b[0m         \u001b[0mlayers\u001b[0m \u001b[0;34m=\u001b[0m \u001b[0;34m[\u001b[0m\u001b[0mlayers\u001b[0m\u001b[0;34m]\u001b[0m\u001b[0;34m\u001b[0m\u001b[0;34m\u001b[0m\u001b[0m\n\u001b[1;32m    141\u001b[0m       \u001b[0;32mfor\u001b[0m \u001b[0mlayer\u001b[0m \u001b[0;32min\u001b[0m \u001b[0mlayers\u001b[0m\u001b[0;34m:\u001b[0m\u001b[0;34m\u001b[0m\u001b[0;34m\u001b[0m\u001b[0m\n\u001b[0;32m--> 142\u001b[0;31m         \u001b[0mself\u001b[0m\u001b[0;34m.\u001b[0m\u001b[0madd\u001b[0m\u001b[0;34m(\u001b[0m\u001b[0mlayer\u001b[0m\u001b[0;34m)\u001b[0m\u001b[0;34m\u001b[0m\u001b[0;34m\u001b[0m\u001b[0m\n\u001b[0m\u001b[1;32m    143\u001b[0m \u001b[0;34m\u001b[0m\u001b[0m\n\u001b[1;32m    144\u001b[0m   \u001b[0;34m@\u001b[0m\u001b[0mproperty\u001b[0m\u001b[0;34m\u001b[0m\u001b[0;34m\u001b[0m\u001b[0m\n",
            "\u001b[0;32m/usr/local/lib/python3.6/dist-packages/tensorflow/python/training/tracking/base.py\u001b[0m in \u001b[0;36m_method_wrapper\u001b[0;34m(self, *args, **kwargs)\u001b[0m\n\u001b[1;32m    455\u001b[0m     \u001b[0mself\u001b[0m\u001b[0;34m.\u001b[0m\u001b[0m_self_setattr_tracking\u001b[0m \u001b[0;34m=\u001b[0m \u001b[0;32mFalse\u001b[0m  \u001b[0;31m# pylint: disable=protected-access\u001b[0m\u001b[0;34m\u001b[0m\u001b[0;34m\u001b[0m\u001b[0m\n\u001b[1;32m    456\u001b[0m     \u001b[0;32mtry\u001b[0m\u001b[0;34m:\u001b[0m\u001b[0;34m\u001b[0m\u001b[0;34m\u001b[0m\u001b[0m\n\u001b[0;32m--> 457\u001b[0;31m       \u001b[0mresult\u001b[0m \u001b[0;34m=\u001b[0m \u001b[0mmethod\u001b[0m\u001b[0;34m(\u001b[0m\u001b[0mself\u001b[0m\u001b[0;34m,\u001b[0m \u001b[0;34m*\u001b[0m\u001b[0margs\u001b[0m\u001b[0;34m,\u001b[0m \u001b[0;34m**\u001b[0m\u001b[0mkwargs\u001b[0m\u001b[0;34m)\u001b[0m\u001b[0;34m\u001b[0m\u001b[0;34m\u001b[0m\u001b[0m\n\u001b[0m\u001b[1;32m    458\u001b[0m     \u001b[0;32mfinally\u001b[0m\u001b[0;34m:\u001b[0m\u001b[0;34m\u001b[0m\u001b[0;34m\u001b[0m\u001b[0m\n\u001b[1;32m    459\u001b[0m       \u001b[0mself\u001b[0m\u001b[0;34m.\u001b[0m\u001b[0m_self_setattr_tracking\u001b[0m \u001b[0;34m=\u001b[0m \u001b[0mprevious_value\u001b[0m  \u001b[0;31m# pylint: disable=protected-access\u001b[0m\u001b[0;34m\u001b[0m\u001b[0;34m\u001b[0m\u001b[0m\n",
            "\u001b[0;32m/usr/local/lib/python3.6/dist-packages/tensorflow/python/keras/engine/sequential.py\u001b[0m in \u001b[0;36madd\u001b[0;34m(self, layer)\u001b[0m\n\u001b[1;32m    204\u001b[0m           \u001b[0;31m# and create the node connecting the current layer\u001b[0m\u001b[0;34m\u001b[0m\u001b[0;34m\u001b[0m\u001b[0;34m\u001b[0m\u001b[0m\n\u001b[1;32m    205\u001b[0m           \u001b[0;31m# to the input layer we just created.\u001b[0m\u001b[0;34m\u001b[0m\u001b[0;34m\u001b[0m\u001b[0;34m\u001b[0m\u001b[0m\n\u001b[0;32m--> 206\u001b[0;31m           \u001b[0mlayer\u001b[0m\u001b[0;34m(\u001b[0m\u001b[0mx\u001b[0m\u001b[0;34m)\u001b[0m\u001b[0;34m\u001b[0m\u001b[0;34m\u001b[0m\u001b[0m\n\u001b[0m\u001b[1;32m    207\u001b[0m           \u001b[0mset_inputs\u001b[0m \u001b[0;34m=\u001b[0m \u001b[0;32mTrue\u001b[0m\u001b[0;34m\u001b[0m\u001b[0;34m\u001b[0m\u001b[0m\n\u001b[1;32m    208\u001b[0m \u001b[0;34m\u001b[0m\u001b[0m\n",
            "\u001b[0;32m/usr/local/lib/python3.6/dist-packages/tensorflow/python/keras/layers/recurrent.py\u001b[0m in \u001b[0;36m__call__\u001b[0;34m(self, inputs, initial_state, constants, **kwargs)\u001b[0m\n\u001b[1;32m    661\u001b[0m \u001b[0;34m\u001b[0m\u001b[0m\n\u001b[1;32m    662\u001b[0m     \u001b[0;32mif\u001b[0m \u001b[0minitial_state\u001b[0m \u001b[0;32mis\u001b[0m \u001b[0;32mNone\u001b[0m \u001b[0;32mand\u001b[0m \u001b[0mconstants\u001b[0m \u001b[0;32mis\u001b[0m \u001b[0;32mNone\u001b[0m\u001b[0;34m:\u001b[0m\u001b[0;34m\u001b[0m\u001b[0;34m\u001b[0m\u001b[0m\n\u001b[0;32m--> 663\u001b[0;31m       \u001b[0;32mreturn\u001b[0m \u001b[0msuper\u001b[0m\u001b[0;34m(\u001b[0m\u001b[0mRNN\u001b[0m\u001b[0;34m,\u001b[0m \u001b[0mself\u001b[0m\u001b[0;34m)\u001b[0m\u001b[0;34m.\u001b[0m\u001b[0m__call__\u001b[0m\u001b[0;34m(\u001b[0m\u001b[0minputs\u001b[0m\u001b[0;34m,\u001b[0m \u001b[0;34m**\u001b[0m\u001b[0mkwargs\u001b[0m\u001b[0;34m)\u001b[0m\u001b[0;34m\u001b[0m\u001b[0;34m\u001b[0m\u001b[0m\n\u001b[0m\u001b[1;32m    664\u001b[0m \u001b[0;34m\u001b[0m\u001b[0m\n\u001b[1;32m    665\u001b[0m     \u001b[0;31m# If any of `initial_state` or `constants` are specified and are Keras\u001b[0m\u001b[0;34m\u001b[0m\u001b[0;34m\u001b[0m\u001b[0;34m\u001b[0m\u001b[0m\n",
            "\u001b[0;32m/usr/local/lib/python3.6/dist-packages/tensorflow/python/keras/engine/base_layer.py\u001b[0m in \u001b[0;36m__call__\u001b[0;34m(self, *args, **kwargs)\u001b[0m\n\u001b[1;32m    924\u001b[0m     \u001b[0;32mif\u001b[0m \u001b[0m_in_functional_construction_mode\u001b[0m\u001b[0;34m(\u001b[0m\u001b[0mself\u001b[0m\u001b[0;34m,\u001b[0m \u001b[0minputs\u001b[0m\u001b[0;34m,\u001b[0m \u001b[0margs\u001b[0m\u001b[0;34m,\u001b[0m \u001b[0mkwargs\u001b[0m\u001b[0;34m,\u001b[0m \u001b[0minput_list\u001b[0m\u001b[0;34m)\u001b[0m\u001b[0;34m:\u001b[0m\u001b[0;34m\u001b[0m\u001b[0;34m\u001b[0m\u001b[0m\n\u001b[1;32m    925\u001b[0m       return self._functional_construction_call(inputs, args, kwargs,\n\u001b[0;32m--> 926\u001b[0;31m                                                 input_list)\n\u001b[0m\u001b[1;32m    927\u001b[0m \u001b[0;34m\u001b[0m\u001b[0m\n\u001b[1;32m    928\u001b[0m     \u001b[0;31m# Maintains info about the `Layer.call` stack.\u001b[0m\u001b[0;34m\u001b[0m\u001b[0;34m\u001b[0m\u001b[0;34m\u001b[0m\u001b[0m\n",
            "\u001b[0;32m/usr/local/lib/python3.6/dist-packages/tensorflow/python/keras/engine/base_layer.py\u001b[0m in \u001b[0;36m_functional_construction_call\u001b[0;34m(self, inputs, args, kwargs, input_list)\u001b[0m\n\u001b[1;32m   1115\u001b[0m           \u001b[0;32mtry\u001b[0m\u001b[0;34m:\u001b[0m\u001b[0;34m\u001b[0m\u001b[0;34m\u001b[0m\u001b[0m\n\u001b[1;32m   1116\u001b[0m             \u001b[0;32mwith\u001b[0m \u001b[0mops\u001b[0m\u001b[0;34m.\u001b[0m\u001b[0menable_auto_cast_variables\u001b[0m\u001b[0;34m(\u001b[0m\u001b[0mself\u001b[0m\u001b[0;34m.\u001b[0m\u001b[0m_compute_dtype_object\u001b[0m\u001b[0;34m)\u001b[0m\u001b[0;34m:\u001b[0m\u001b[0;34m\u001b[0m\u001b[0;34m\u001b[0m\u001b[0m\n\u001b[0;32m-> 1117\u001b[0;31m               \u001b[0moutputs\u001b[0m \u001b[0;34m=\u001b[0m \u001b[0mcall_fn\u001b[0m\u001b[0;34m(\u001b[0m\u001b[0mcast_inputs\u001b[0m\u001b[0;34m,\u001b[0m \u001b[0;34m*\u001b[0m\u001b[0margs\u001b[0m\u001b[0;34m,\u001b[0m \u001b[0;34m**\u001b[0m\u001b[0mkwargs\u001b[0m\u001b[0;34m)\u001b[0m\u001b[0;34m\u001b[0m\u001b[0;34m\u001b[0m\u001b[0m\n\u001b[0m\u001b[1;32m   1118\u001b[0m \u001b[0;34m\u001b[0m\u001b[0m\n\u001b[1;32m   1119\u001b[0m           \u001b[0;32mexcept\u001b[0m \u001b[0merrors\u001b[0m\u001b[0;34m.\u001b[0m\u001b[0mOperatorNotAllowedInGraphError\u001b[0m \u001b[0;32mas\u001b[0m \u001b[0me\u001b[0m\u001b[0;34m:\u001b[0m\u001b[0;34m\u001b[0m\u001b[0;34m\u001b[0m\u001b[0m\n",
            "\u001b[0;32m/usr/local/lib/python3.6/dist-packages/tensorflow/python/keras/layers/recurrent.py\u001b[0m in \u001b[0;36mcall\u001b[0;34m(self, inputs, mask, training, initial_state, constants)\u001b[0m\n\u001b[1;32m    805\u001b[0m         \u001b[0minput_length\u001b[0m\u001b[0;34m=\u001b[0m\u001b[0mrow_lengths\u001b[0m \u001b[0;32mif\u001b[0m \u001b[0mrow_lengths\u001b[0m \u001b[0;32mis\u001b[0m \u001b[0;32mnot\u001b[0m \u001b[0;32mNone\u001b[0m \u001b[0;32melse\u001b[0m \u001b[0mtimesteps\u001b[0m\u001b[0;34m,\u001b[0m\u001b[0;34m\u001b[0m\u001b[0;34m\u001b[0m\u001b[0m\n\u001b[1;32m    806\u001b[0m         \u001b[0mtime_major\u001b[0m\u001b[0;34m=\u001b[0m\u001b[0mself\u001b[0m\u001b[0;34m.\u001b[0m\u001b[0mtime_major\u001b[0m\u001b[0;34m,\u001b[0m\u001b[0;34m\u001b[0m\u001b[0;34m\u001b[0m\u001b[0m\n\u001b[0;32m--> 807\u001b[0;31m         zero_output_for_mask=self.zero_output_for_mask)\n\u001b[0m\u001b[1;32m    808\u001b[0m \u001b[0;34m\u001b[0m\u001b[0m\n\u001b[1;32m    809\u001b[0m     \u001b[0;32mif\u001b[0m \u001b[0mself\u001b[0m\u001b[0;34m.\u001b[0m\u001b[0mstateful\u001b[0m\u001b[0;34m:\u001b[0m\u001b[0;34m\u001b[0m\u001b[0;34m\u001b[0m\u001b[0m\n",
            "\u001b[0;32m/usr/local/lib/python3.6/dist-packages/tensorflow/python/util/dispatch.py\u001b[0m in \u001b[0;36mwrapper\u001b[0;34m(*args, **kwargs)\u001b[0m\n\u001b[1;32m    199\u001b[0m     \u001b[0;34m\"\"\"Call target, and fall back on dispatchers if there is a TypeError.\"\"\"\u001b[0m\u001b[0;34m\u001b[0m\u001b[0;34m\u001b[0m\u001b[0m\n\u001b[1;32m    200\u001b[0m     \u001b[0;32mtry\u001b[0m\u001b[0;34m:\u001b[0m\u001b[0;34m\u001b[0m\u001b[0;34m\u001b[0m\u001b[0m\n\u001b[0;32m--> 201\u001b[0;31m       \u001b[0;32mreturn\u001b[0m \u001b[0mtarget\u001b[0m\u001b[0;34m(\u001b[0m\u001b[0;34m*\u001b[0m\u001b[0margs\u001b[0m\u001b[0;34m,\u001b[0m \u001b[0;34m**\u001b[0m\u001b[0mkwargs\u001b[0m\u001b[0;34m)\u001b[0m\u001b[0;34m\u001b[0m\u001b[0;34m\u001b[0m\u001b[0m\n\u001b[0m\u001b[1;32m    202\u001b[0m     \u001b[0;32mexcept\u001b[0m \u001b[0;34m(\u001b[0m\u001b[0mTypeError\u001b[0m\u001b[0;34m,\u001b[0m \u001b[0mValueError\u001b[0m\u001b[0;34m)\u001b[0m\u001b[0;34m:\u001b[0m\u001b[0;34m\u001b[0m\u001b[0;34m\u001b[0m\u001b[0m\n\u001b[1;32m    203\u001b[0m       \u001b[0;31m# Note: convert_to_eager_tensor currently raises a ValueError, not a\u001b[0m\u001b[0;34m\u001b[0m\u001b[0;34m\u001b[0m\u001b[0;34m\u001b[0m\u001b[0m\n",
            "\u001b[0;32m/usr/local/lib/python3.6/dist-packages/tensorflow/python/keras/backend.py\u001b[0m in \u001b[0;36mrnn\u001b[0;34m(step_function, inputs, initial_states, go_backwards, mask, constants, unroll, input_length, time_major, zero_output_for_mask)\u001b[0m\n\u001b[1;32m   4212\u001b[0m     \u001b[0;31m# the value is discarded.\u001b[0m\u001b[0;34m\u001b[0m\u001b[0;34m\u001b[0m\u001b[0;34m\u001b[0m\u001b[0m\n\u001b[1;32m   4213\u001b[0m     output_time_zero, _ = step_function(\n\u001b[0;32m-> 4214\u001b[0;31m         input_time_zero, tuple(initial_states) + tuple(constants))\n\u001b[0m\u001b[1;32m   4215\u001b[0m     output_ta = tuple(\n\u001b[1;32m   4216\u001b[0m         tensor_array_ops.TensorArray(\n",
            "\u001b[0;32m/usr/local/lib/python3.6/dist-packages/tensorflow/python/keras/layers/recurrent.py\u001b[0m in \u001b[0;36mstep\u001b[0;34m(inputs, states)\u001b[0m\n\u001b[1;32m    791\u001b[0m       \u001b[0;32mdef\u001b[0m \u001b[0mstep\u001b[0m\u001b[0;34m(\u001b[0m\u001b[0minputs\u001b[0m\u001b[0;34m,\u001b[0m \u001b[0mstates\u001b[0m\u001b[0;34m)\u001b[0m\u001b[0;34m:\u001b[0m\u001b[0;34m\u001b[0m\u001b[0;34m\u001b[0m\u001b[0m\n\u001b[1;32m    792\u001b[0m         \u001b[0mstates\u001b[0m \u001b[0;34m=\u001b[0m \u001b[0mstates\u001b[0m\u001b[0;34m[\u001b[0m\u001b[0;36m0\u001b[0m\u001b[0;34m]\u001b[0m \u001b[0;32mif\u001b[0m \u001b[0mlen\u001b[0m\u001b[0;34m(\u001b[0m\u001b[0mstates\u001b[0m\u001b[0;34m)\u001b[0m \u001b[0;34m==\u001b[0m \u001b[0;36m1\u001b[0m \u001b[0;32mand\u001b[0m \u001b[0mis_tf_rnn_cell\u001b[0m \u001b[0;32melse\u001b[0m \u001b[0mstates\u001b[0m\u001b[0;34m\u001b[0m\u001b[0;34m\u001b[0m\u001b[0m\n\u001b[0;32m--> 793\u001b[0;31m         \u001b[0moutput\u001b[0m\u001b[0;34m,\u001b[0m \u001b[0mnew_states\u001b[0m \u001b[0;34m=\u001b[0m \u001b[0mcell_call_fn\u001b[0m\u001b[0;34m(\u001b[0m\u001b[0minputs\u001b[0m\u001b[0;34m,\u001b[0m \u001b[0mstates\u001b[0m\u001b[0;34m,\u001b[0m \u001b[0;34m**\u001b[0m\u001b[0mkwargs\u001b[0m\u001b[0;34m)\u001b[0m\u001b[0;34m\u001b[0m\u001b[0;34m\u001b[0m\u001b[0m\n\u001b[0m\u001b[1;32m    794\u001b[0m         \u001b[0;32mif\u001b[0m \u001b[0;32mnot\u001b[0m \u001b[0mnest\u001b[0m\u001b[0;34m.\u001b[0m\u001b[0mis_sequence\u001b[0m\u001b[0;34m(\u001b[0m\u001b[0mnew_states\u001b[0m\u001b[0;34m)\u001b[0m\u001b[0;34m:\u001b[0m\u001b[0;34m\u001b[0m\u001b[0;34m\u001b[0m\u001b[0m\n\u001b[1;32m    795\u001b[0m           \u001b[0mnew_states\u001b[0m \u001b[0;34m=\u001b[0m \u001b[0;34m[\u001b[0m\u001b[0mnew_states\u001b[0m\u001b[0;34m]\u001b[0m\u001b[0;34m\u001b[0m\u001b[0;34m\u001b[0m\u001b[0m\n",
            "\u001b[0;32m/usr/local/lib/python3.6/dist-packages/tensorflow/python/keras/engine/base_layer.py\u001b[0m in \u001b[0;36m__call__\u001b[0;34m(self, *args, **kwargs)\u001b[0m\n\u001b[1;32m    924\u001b[0m     \u001b[0;32mif\u001b[0m \u001b[0m_in_functional_construction_mode\u001b[0m\u001b[0;34m(\u001b[0m\u001b[0mself\u001b[0m\u001b[0;34m,\u001b[0m \u001b[0minputs\u001b[0m\u001b[0;34m,\u001b[0m \u001b[0margs\u001b[0m\u001b[0;34m,\u001b[0m \u001b[0mkwargs\u001b[0m\u001b[0;34m,\u001b[0m \u001b[0minput_list\u001b[0m\u001b[0;34m)\u001b[0m\u001b[0;34m:\u001b[0m\u001b[0;34m\u001b[0m\u001b[0;34m\u001b[0m\u001b[0m\n\u001b[1;32m    925\u001b[0m       return self._functional_construction_call(inputs, args, kwargs,\n\u001b[0;32m--> 926\u001b[0;31m                                                 input_list)\n\u001b[0m\u001b[1;32m    927\u001b[0m \u001b[0;34m\u001b[0m\u001b[0m\n\u001b[1;32m    928\u001b[0m     \u001b[0;31m# Maintains info about the `Layer.call` stack.\u001b[0m\u001b[0;34m\u001b[0m\u001b[0;34m\u001b[0m\u001b[0;34m\u001b[0m\u001b[0m\n",
            "\u001b[0;32m/usr/local/lib/python3.6/dist-packages/tensorflow/python/keras/engine/base_layer.py\u001b[0m in \u001b[0;36m_functional_construction_call\u001b[0;34m(self, inputs, args, kwargs, input_list)\u001b[0m\n\u001b[1;32m   1115\u001b[0m           \u001b[0;32mtry\u001b[0m\u001b[0;34m:\u001b[0m\u001b[0;34m\u001b[0m\u001b[0;34m\u001b[0m\u001b[0m\n\u001b[1;32m   1116\u001b[0m             \u001b[0;32mwith\u001b[0m \u001b[0mops\u001b[0m\u001b[0;34m.\u001b[0m\u001b[0menable_auto_cast_variables\u001b[0m\u001b[0;34m(\u001b[0m\u001b[0mself\u001b[0m\u001b[0;34m.\u001b[0m\u001b[0m_compute_dtype_object\u001b[0m\u001b[0;34m)\u001b[0m\u001b[0;34m:\u001b[0m\u001b[0;34m\u001b[0m\u001b[0;34m\u001b[0m\u001b[0m\n\u001b[0;32m-> 1117\u001b[0;31m               \u001b[0moutputs\u001b[0m \u001b[0;34m=\u001b[0m \u001b[0mcall_fn\u001b[0m\u001b[0;34m(\u001b[0m\u001b[0mcast_inputs\u001b[0m\u001b[0;34m,\u001b[0m \u001b[0;34m*\u001b[0m\u001b[0margs\u001b[0m\u001b[0;34m,\u001b[0m \u001b[0;34m**\u001b[0m\u001b[0mkwargs\u001b[0m\u001b[0;34m)\u001b[0m\u001b[0;34m\u001b[0m\u001b[0;34m\u001b[0m\u001b[0m\n\u001b[0m\u001b[1;32m   1118\u001b[0m \u001b[0;34m\u001b[0m\u001b[0m\n\u001b[1;32m   1119\u001b[0m           \u001b[0;32mexcept\u001b[0m \u001b[0merrors\u001b[0m\u001b[0;34m.\u001b[0m\u001b[0mOperatorNotAllowedInGraphError\u001b[0m \u001b[0;32mas\u001b[0m \u001b[0me\u001b[0m\u001b[0;34m:\u001b[0m\u001b[0;34m\u001b[0m\u001b[0;34m\u001b[0m\u001b[0m\n",
            "\u001b[0;32m/usr/local/lib/python3.6/dist-packages/tensorflow/python/autograph/impl/api.py\u001b[0m in \u001b[0;36mwrapper\u001b[0;34m(*args, **kwargs)\u001b[0m\n\u001b[1;32m    256\u001b[0m       \u001b[0;32mexcept\u001b[0m \u001b[0mException\u001b[0m \u001b[0;32mas\u001b[0m \u001b[0me\u001b[0m\u001b[0;34m:\u001b[0m  \u001b[0;31m# pylint:disable=broad-except\u001b[0m\u001b[0;34m\u001b[0m\u001b[0;34m\u001b[0m\u001b[0m\n\u001b[1;32m    257\u001b[0m         \u001b[0;32mif\u001b[0m \u001b[0mhasattr\u001b[0m\u001b[0;34m(\u001b[0m\u001b[0me\u001b[0m\u001b[0;34m,\u001b[0m \u001b[0;34m'ag_error_metadata'\u001b[0m\u001b[0;34m)\u001b[0m\u001b[0;34m:\u001b[0m\u001b[0;34m\u001b[0m\u001b[0;34m\u001b[0m\u001b[0m\n\u001b[0;32m--> 258\u001b[0;31m           \u001b[0;32mraise\u001b[0m \u001b[0me\u001b[0m\u001b[0;34m.\u001b[0m\u001b[0mag_error_metadata\u001b[0m\u001b[0;34m.\u001b[0m\u001b[0mto_exception\u001b[0m\u001b[0;34m(\u001b[0m\u001b[0me\u001b[0m\u001b[0;34m)\u001b[0m\u001b[0;34m\u001b[0m\u001b[0;34m\u001b[0m\u001b[0m\n\u001b[0m\u001b[1;32m    259\u001b[0m         \u001b[0;32melse\u001b[0m\u001b[0;34m:\u001b[0m\u001b[0;34m\u001b[0m\u001b[0;34m\u001b[0m\u001b[0m\n\u001b[1;32m    260\u001b[0m           \u001b[0;32mraise\u001b[0m\u001b[0;34m\u001b[0m\u001b[0;34m\u001b[0m\u001b[0m\n",
            "\u001b[0;31mValueError\u001b[0m: in user code:\n\n    <ipython-input-44-179dee7b284c>:11 call  *\n        outputs, new_states = self.simple_rnn_cell(inputs, states)\n    /usr/local/lib/python3.6/dist-packages/tensorflow/python/keras/layers/recurrent.py:720 __call__  **\n        return super(RNN, self).__call__(inputs, **kwargs)\n    /usr/local/lib/python3.6/dist-packages/tensorflow/python/keras/engine/base_layer.py:926 __call__\n        input_list)\n    /usr/local/lib/python3.6/dist-packages/tensorflow/python/keras/engine/base_layer.py:1092 _functional_construction_call\n        input_spec.assert_input_compatibility(self.input_spec, inputs, self.name)\n    /usr/local/lib/python3.6/dist-packages/tensorflow/python/keras/engine/input_spec.py:180 assert_input_compatibility\n        str(x.shape.as_list()))\n\n    ValueError: Input 0 of layer simple_rnn_17 is incompatible with the layer: expected ndim=3, found ndim=2. Full shape received: [None, 1]\n"
          ]
        }
      ]
    },
    {
      "cell_type": "code",
      "metadata": {
        "colab": {
          "base_uri": "https://localhost:8080/",
          "height": 571
        },
        "id": "8buutfbCH62j",
        "outputId": "3ad3ccaa-6f4b-4e7d-e129-b960640fa3d5"
      },
      "source": [
        "model.compile(optimizer='RMSProp', loss='MSE', metrics=[last_time_step_mse])\r\n",
        "model.fit(X_train, Y_train, epochs=20)"
      ],
      "execution_count": null,
      "outputs": [
        {
          "output_type": "stream",
          "text": [
            "Epoch 1/20\n"
          ],
          "name": "stdout"
        },
        {
          "output_type": "error",
          "ename": "ValueError",
          "evalue": "ignored",
          "traceback": [
            "\u001b[0;31m---------------------------------------------------------------------------\u001b[0m",
            "\u001b[0;31mValueError\u001b[0m                                Traceback (most recent call last)",
            "\u001b[0;32m<ipython-input-46-2d5be9f0489c>\u001b[0m in \u001b[0;36m<module>\u001b[0;34m()\u001b[0m\n\u001b[1;32m      1\u001b[0m \u001b[0mmodel\u001b[0m\u001b[0;34m.\u001b[0m\u001b[0mcompile\u001b[0m\u001b[0;34m(\u001b[0m\u001b[0moptimizer\u001b[0m\u001b[0;34m=\u001b[0m\u001b[0;34m'RMSProp'\u001b[0m\u001b[0;34m,\u001b[0m \u001b[0mloss\u001b[0m\u001b[0;34m=\u001b[0m\u001b[0;34m'MSE'\u001b[0m\u001b[0;34m,\u001b[0m \u001b[0mmetrics\u001b[0m\u001b[0;34m=\u001b[0m\u001b[0;34m[\u001b[0m\u001b[0mlast_time_step_mse\u001b[0m\u001b[0;34m]\u001b[0m\u001b[0;34m)\u001b[0m\u001b[0;34m\u001b[0m\u001b[0;34m\u001b[0m\u001b[0m\n\u001b[0;32m----> 2\u001b[0;31m \u001b[0mmodel\u001b[0m\u001b[0;34m.\u001b[0m\u001b[0mfit\u001b[0m\u001b[0;34m(\u001b[0m\u001b[0mX_train\u001b[0m\u001b[0;34m,\u001b[0m \u001b[0mY_train\u001b[0m\u001b[0;34m,\u001b[0m \u001b[0mepochs\u001b[0m\u001b[0;34m=\u001b[0m\u001b[0;36m20\u001b[0m\u001b[0;34m)\u001b[0m\u001b[0;34m\u001b[0m\u001b[0;34m\u001b[0m\u001b[0m\n\u001b[0m",
            "\u001b[0;32m/usr/local/lib/python3.6/dist-packages/tensorflow/python/keras/engine/training.py\u001b[0m in \u001b[0;36m_method_wrapper\u001b[0;34m(self, *args, **kwargs)\u001b[0m\n\u001b[1;32m    106\u001b[0m   \u001b[0;32mdef\u001b[0m \u001b[0m_method_wrapper\u001b[0m\u001b[0;34m(\u001b[0m\u001b[0mself\u001b[0m\u001b[0;34m,\u001b[0m \u001b[0;34m*\u001b[0m\u001b[0margs\u001b[0m\u001b[0;34m,\u001b[0m \u001b[0;34m**\u001b[0m\u001b[0mkwargs\u001b[0m\u001b[0;34m)\u001b[0m\u001b[0;34m:\u001b[0m\u001b[0;34m\u001b[0m\u001b[0;34m\u001b[0m\u001b[0m\n\u001b[1;32m    107\u001b[0m     \u001b[0;32mif\u001b[0m \u001b[0;32mnot\u001b[0m \u001b[0mself\u001b[0m\u001b[0;34m.\u001b[0m\u001b[0m_in_multi_worker_mode\u001b[0m\u001b[0;34m(\u001b[0m\u001b[0;34m)\u001b[0m\u001b[0;34m:\u001b[0m  \u001b[0;31m# pylint: disable=protected-access\u001b[0m\u001b[0;34m\u001b[0m\u001b[0;34m\u001b[0m\u001b[0m\n\u001b[0;32m--> 108\u001b[0;31m       \u001b[0;32mreturn\u001b[0m \u001b[0mmethod\u001b[0m\u001b[0;34m(\u001b[0m\u001b[0mself\u001b[0m\u001b[0;34m,\u001b[0m \u001b[0;34m*\u001b[0m\u001b[0margs\u001b[0m\u001b[0;34m,\u001b[0m \u001b[0;34m**\u001b[0m\u001b[0mkwargs\u001b[0m\u001b[0;34m)\u001b[0m\u001b[0;34m\u001b[0m\u001b[0;34m\u001b[0m\u001b[0m\n\u001b[0m\u001b[1;32m    109\u001b[0m \u001b[0;34m\u001b[0m\u001b[0m\n\u001b[1;32m    110\u001b[0m     \u001b[0;31m# Running inside `run_distribute_coordinator` already.\u001b[0m\u001b[0;34m\u001b[0m\u001b[0;34m\u001b[0m\u001b[0;34m\u001b[0m\u001b[0m\n",
            "\u001b[0;32m/usr/local/lib/python3.6/dist-packages/tensorflow/python/keras/engine/training.py\u001b[0m in \u001b[0;36mfit\u001b[0;34m(self, x, y, batch_size, epochs, verbose, callbacks, validation_split, validation_data, shuffle, class_weight, sample_weight, initial_epoch, steps_per_epoch, validation_steps, validation_batch_size, validation_freq, max_queue_size, workers, use_multiprocessing)\u001b[0m\n\u001b[1;32m   1096\u001b[0m                 batch_size=batch_size):\n\u001b[1;32m   1097\u001b[0m               \u001b[0mcallbacks\u001b[0m\u001b[0;34m.\u001b[0m\u001b[0mon_train_batch_begin\u001b[0m\u001b[0;34m(\u001b[0m\u001b[0mstep\u001b[0m\u001b[0;34m)\u001b[0m\u001b[0;34m\u001b[0m\u001b[0;34m\u001b[0m\u001b[0m\n\u001b[0;32m-> 1098\u001b[0;31m               \u001b[0mtmp_logs\u001b[0m \u001b[0;34m=\u001b[0m \u001b[0mtrain_function\u001b[0m\u001b[0;34m(\u001b[0m\u001b[0miterator\u001b[0m\u001b[0;34m)\u001b[0m\u001b[0;34m\u001b[0m\u001b[0;34m\u001b[0m\u001b[0m\n\u001b[0m\u001b[1;32m   1099\u001b[0m               \u001b[0;32mif\u001b[0m \u001b[0mdata_handler\u001b[0m\u001b[0;34m.\u001b[0m\u001b[0mshould_sync\u001b[0m\u001b[0;34m:\u001b[0m\u001b[0;34m\u001b[0m\u001b[0;34m\u001b[0m\u001b[0m\n\u001b[1;32m   1100\u001b[0m                 \u001b[0mcontext\u001b[0m\u001b[0;34m.\u001b[0m\u001b[0masync_wait\u001b[0m\u001b[0;34m(\u001b[0m\u001b[0;34m)\u001b[0m\u001b[0;34m\u001b[0m\u001b[0;34m\u001b[0m\u001b[0m\n",
            "\u001b[0;32m/usr/local/lib/python3.6/dist-packages/tensorflow/python/eager/def_function.py\u001b[0m in \u001b[0;36m__call__\u001b[0;34m(self, *args, **kwds)\u001b[0m\n\u001b[1;32m    778\u001b[0m       \u001b[0;32melse\u001b[0m\u001b[0;34m:\u001b[0m\u001b[0;34m\u001b[0m\u001b[0;34m\u001b[0m\u001b[0m\n\u001b[1;32m    779\u001b[0m         \u001b[0mcompiler\u001b[0m \u001b[0;34m=\u001b[0m \u001b[0;34m\"nonXla\"\u001b[0m\u001b[0;34m\u001b[0m\u001b[0;34m\u001b[0m\u001b[0m\n\u001b[0;32m--> 780\u001b[0;31m         \u001b[0mresult\u001b[0m \u001b[0;34m=\u001b[0m \u001b[0mself\u001b[0m\u001b[0;34m.\u001b[0m\u001b[0m_call\u001b[0m\u001b[0;34m(\u001b[0m\u001b[0;34m*\u001b[0m\u001b[0margs\u001b[0m\u001b[0;34m,\u001b[0m \u001b[0;34m**\u001b[0m\u001b[0mkwds\u001b[0m\u001b[0;34m)\u001b[0m\u001b[0;34m\u001b[0m\u001b[0;34m\u001b[0m\u001b[0m\n\u001b[0m\u001b[1;32m    781\u001b[0m \u001b[0;34m\u001b[0m\u001b[0m\n\u001b[1;32m    782\u001b[0m       \u001b[0mnew_tracing_count\u001b[0m \u001b[0;34m=\u001b[0m \u001b[0mself\u001b[0m\u001b[0;34m.\u001b[0m\u001b[0m_get_tracing_count\u001b[0m\u001b[0;34m(\u001b[0m\u001b[0;34m)\u001b[0m\u001b[0;34m\u001b[0m\u001b[0;34m\u001b[0m\u001b[0m\n",
            "\u001b[0;32m/usr/local/lib/python3.6/dist-packages/tensorflow/python/eager/def_function.py\u001b[0m in \u001b[0;36m_call\u001b[0;34m(self, *args, **kwds)\u001b[0m\n\u001b[1;32m    821\u001b[0m       \u001b[0;31m# This is the first call of __call__, so we have to initialize.\u001b[0m\u001b[0;34m\u001b[0m\u001b[0;34m\u001b[0m\u001b[0;34m\u001b[0m\u001b[0m\n\u001b[1;32m    822\u001b[0m       \u001b[0minitializers\u001b[0m \u001b[0;34m=\u001b[0m \u001b[0;34m[\u001b[0m\u001b[0;34m]\u001b[0m\u001b[0;34m\u001b[0m\u001b[0;34m\u001b[0m\u001b[0m\n\u001b[0;32m--> 823\u001b[0;31m       \u001b[0mself\u001b[0m\u001b[0;34m.\u001b[0m\u001b[0m_initialize\u001b[0m\u001b[0;34m(\u001b[0m\u001b[0margs\u001b[0m\u001b[0;34m,\u001b[0m \u001b[0mkwds\u001b[0m\u001b[0;34m,\u001b[0m \u001b[0madd_initializers_to\u001b[0m\u001b[0;34m=\u001b[0m\u001b[0minitializers\u001b[0m\u001b[0;34m)\u001b[0m\u001b[0;34m\u001b[0m\u001b[0;34m\u001b[0m\u001b[0m\n\u001b[0m\u001b[1;32m    824\u001b[0m     \u001b[0;32mfinally\u001b[0m\u001b[0;34m:\u001b[0m\u001b[0;34m\u001b[0m\u001b[0;34m\u001b[0m\u001b[0m\n\u001b[1;32m    825\u001b[0m       \u001b[0;31m# At this point we know that the initialization is complete (or less\u001b[0m\u001b[0;34m\u001b[0m\u001b[0;34m\u001b[0m\u001b[0;34m\u001b[0m\u001b[0m\n",
            "\u001b[0;32m/usr/local/lib/python3.6/dist-packages/tensorflow/python/eager/def_function.py\u001b[0m in \u001b[0;36m_initialize\u001b[0;34m(self, args, kwds, add_initializers_to)\u001b[0m\n\u001b[1;32m    695\u001b[0m     self._concrete_stateful_fn = (\n\u001b[1;32m    696\u001b[0m         self._stateful_fn._get_concrete_function_internal_garbage_collected(  # pylint: disable=protected-access\n\u001b[0;32m--> 697\u001b[0;31m             *args, **kwds))\n\u001b[0m\u001b[1;32m    698\u001b[0m \u001b[0;34m\u001b[0m\u001b[0m\n\u001b[1;32m    699\u001b[0m     \u001b[0;32mdef\u001b[0m \u001b[0minvalid_creator_scope\u001b[0m\u001b[0;34m(\u001b[0m\u001b[0;34m*\u001b[0m\u001b[0munused_args\u001b[0m\u001b[0;34m,\u001b[0m \u001b[0;34m**\u001b[0m\u001b[0munused_kwds\u001b[0m\u001b[0;34m)\u001b[0m\u001b[0;34m:\u001b[0m\u001b[0;34m\u001b[0m\u001b[0;34m\u001b[0m\u001b[0m\n",
            "\u001b[0;32m/usr/local/lib/python3.6/dist-packages/tensorflow/python/eager/function.py\u001b[0m in \u001b[0;36m_get_concrete_function_internal_garbage_collected\u001b[0;34m(self, *args, **kwargs)\u001b[0m\n\u001b[1;32m   2853\u001b[0m       \u001b[0margs\u001b[0m\u001b[0;34m,\u001b[0m \u001b[0mkwargs\u001b[0m \u001b[0;34m=\u001b[0m \u001b[0;32mNone\u001b[0m\u001b[0;34m,\u001b[0m \u001b[0;32mNone\u001b[0m\u001b[0;34m\u001b[0m\u001b[0;34m\u001b[0m\u001b[0m\n\u001b[1;32m   2854\u001b[0m     \u001b[0;32mwith\u001b[0m \u001b[0mself\u001b[0m\u001b[0;34m.\u001b[0m\u001b[0m_lock\u001b[0m\u001b[0;34m:\u001b[0m\u001b[0;34m\u001b[0m\u001b[0;34m\u001b[0m\u001b[0m\n\u001b[0;32m-> 2855\u001b[0;31m       \u001b[0mgraph_function\u001b[0m\u001b[0;34m,\u001b[0m \u001b[0m_\u001b[0m\u001b[0;34m,\u001b[0m \u001b[0m_\u001b[0m \u001b[0;34m=\u001b[0m \u001b[0mself\u001b[0m\u001b[0;34m.\u001b[0m\u001b[0m_maybe_define_function\u001b[0m\u001b[0;34m(\u001b[0m\u001b[0margs\u001b[0m\u001b[0;34m,\u001b[0m \u001b[0mkwargs\u001b[0m\u001b[0;34m)\u001b[0m\u001b[0;34m\u001b[0m\u001b[0;34m\u001b[0m\u001b[0m\n\u001b[0m\u001b[1;32m   2856\u001b[0m     \u001b[0;32mreturn\u001b[0m \u001b[0mgraph_function\u001b[0m\u001b[0;34m\u001b[0m\u001b[0;34m\u001b[0m\u001b[0m\n\u001b[1;32m   2857\u001b[0m \u001b[0;34m\u001b[0m\u001b[0m\n",
            "\u001b[0;32m/usr/local/lib/python3.6/dist-packages/tensorflow/python/eager/function.py\u001b[0m in \u001b[0;36m_maybe_define_function\u001b[0;34m(self, args, kwargs)\u001b[0m\n\u001b[1;32m   3211\u001b[0m \u001b[0;34m\u001b[0m\u001b[0m\n\u001b[1;32m   3212\u001b[0m       \u001b[0mself\u001b[0m\u001b[0;34m.\u001b[0m\u001b[0m_function_cache\u001b[0m\u001b[0;34m.\u001b[0m\u001b[0mmissed\u001b[0m\u001b[0;34m.\u001b[0m\u001b[0madd\u001b[0m\u001b[0;34m(\u001b[0m\u001b[0mcall_context_key\u001b[0m\u001b[0;34m)\u001b[0m\u001b[0;34m\u001b[0m\u001b[0;34m\u001b[0m\u001b[0m\n\u001b[0;32m-> 3213\u001b[0;31m       \u001b[0mgraph_function\u001b[0m \u001b[0;34m=\u001b[0m \u001b[0mself\u001b[0m\u001b[0;34m.\u001b[0m\u001b[0m_create_graph_function\u001b[0m\u001b[0;34m(\u001b[0m\u001b[0margs\u001b[0m\u001b[0;34m,\u001b[0m \u001b[0mkwargs\u001b[0m\u001b[0;34m)\u001b[0m\u001b[0;34m\u001b[0m\u001b[0;34m\u001b[0m\u001b[0m\n\u001b[0m\u001b[1;32m   3214\u001b[0m       \u001b[0mself\u001b[0m\u001b[0;34m.\u001b[0m\u001b[0m_function_cache\u001b[0m\u001b[0;34m.\u001b[0m\u001b[0mprimary\u001b[0m\u001b[0;34m[\u001b[0m\u001b[0mcache_key\u001b[0m\u001b[0;34m]\u001b[0m \u001b[0;34m=\u001b[0m \u001b[0mgraph_function\u001b[0m\u001b[0;34m\u001b[0m\u001b[0;34m\u001b[0m\u001b[0m\n\u001b[1;32m   3215\u001b[0m       \u001b[0;32mreturn\u001b[0m \u001b[0mgraph_function\u001b[0m\u001b[0;34m,\u001b[0m \u001b[0margs\u001b[0m\u001b[0;34m,\u001b[0m \u001b[0mkwargs\u001b[0m\u001b[0;34m\u001b[0m\u001b[0;34m\u001b[0m\u001b[0m\n",
            "\u001b[0;32m/usr/local/lib/python3.6/dist-packages/tensorflow/python/eager/function.py\u001b[0m in \u001b[0;36m_create_graph_function\u001b[0;34m(self, args, kwargs, override_flat_arg_shapes)\u001b[0m\n\u001b[1;32m   3073\u001b[0m             \u001b[0marg_names\u001b[0m\u001b[0;34m=\u001b[0m\u001b[0marg_names\u001b[0m\u001b[0;34m,\u001b[0m\u001b[0;34m\u001b[0m\u001b[0;34m\u001b[0m\u001b[0m\n\u001b[1;32m   3074\u001b[0m             \u001b[0moverride_flat_arg_shapes\u001b[0m\u001b[0;34m=\u001b[0m\u001b[0moverride_flat_arg_shapes\u001b[0m\u001b[0;34m,\u001b[0m\u001b[0;34m\u001b[0m\u001b[0;34m\u001b[0m\u001b[0m\n\u001b[0;32m-> 3075\u001b[0;31m             capture_by_value=self._capture_by_value),\n\u001b[0m\u001b[1;32m   3076\u001b[0m         \u001b[0mself\u001b[0m\u001b[0;34m.\u001b[0m\u001b[0m_function_attributes\u001b[0m\u001b[0;34m,\u001b[0m\u001b[0;34m\u001b[0m\u001b[0;34m\u001b[0m\u001b[0m\n\u001b[1;32m   3077\u001b[0m         \u001b[0mfunction_spec\u001b[0m\u001b[0;34m=\u001b[0m\u001b[0mself\u001b[0m\u001b[0;34m.\u001b[0m\u001b[0mfunction_spec\u001b[0m\u001b[0;34m,\u001b[0m\u001b[0;34m\u001b[0m\u001b[0;34m\u001b[0m\u001b[0m\n",
            "\u001b[0;32m/usr/local/lib/python3.6/dist-packages/tensorflow/python/framework/func_graph.py\u001b[0m in \u001b[0;36mfunc_graph_from_py_func\u001b[0;34m(name, python_func, args, kwargs, signature, func_graph, autograph, autograph_options, add_control_dependencies, arg_names, op_return_value, collections, capture_by_value, override_flat_arg_shapes)\u001b[0m\n\u001b[1;32m    984\u001b[0m         \u001b[0m_\u001b[0m\u001b[0;34m,\u001b[0m \u001b[0moriginal_func\u001b[0m \u001b[0;34m=\u001b[0m \u001b[0mtf_decorator\u001b[0m\u001b[0;34m.\u001b[0m\u001b[0munwrap\u001b[0m\u001b[0;34m(\u001b[0m\u001b[0mpython_func\u001b[0m\u001b[0;34m)\u001b[0m\u001b[0;34m\u001b[0m\u001b[0;34m\u001b[0m\u001b[0m\n\u001b[1;32m    985\u001b[0m \u001b[0;34m\u001b[0m\u001b[0m\n\u001b[0;32m--> 986\u001b[0;31m       \u001b[0mfunc_outputs\u001b[0m \u001b[0;34m=\u001b[0m \u001b[0mpython_func\u001b[0m\u001b[0;34m(\u001b[0m\u001b[0;34m*\u001b[0m\u001b[0mfunc_args\u001b[0m\u001b[0;34m,\u001b[0m \u001b[0;34m**\u001b[0m\u001b[0mfunc_kwargs\u001b[0m\u001b[0;34m)\u001b[0m\u001b[0;34m\u001b[0m\u001b[0;34m\u001b[0m\u001b[0m\n\u001b[0m\u001b[1;32m    987\u001b[0m \u001b[0;34m\u001b[0m\u001b[0m\n\u001b[1;32m    988\u001b[0m       \u001b[0;31m# invariant: `func_outputs` contains only Tensors, CompositeTensors,\u001b[0m\u001b[0;34m\u001b[0m\u001b[0;34m\u001b[0m\u001b[0;34m\u001b[0m\u001b[0m\n",
            "\u001b[0;32m/usr/local/lib/python3.6/dist-packages/tensorflow/python/eager/def_function.py\u001b[0m in \u001b[0;36mwrapped_fn\u001b[0;34m(*args, **kwds)\u001b[0m\n\u001b[1;32m    598\u001b[0m         \u001b[0;31m# __wrapped__ allows AutoGraph to swap in a converted function. We give\u001b[0m\u001b[0;34m\u001b[0m\u001b[0;34m\u001b[0m\u001b[0;34m\u001b[0m\u001b[0m\n\u001b[1;32m    599\u001b[0m         \u001b[0;31m# the function a weak reference to itself to avoid a reference cycle.\u001b[0m\u001b[0;34m\u001b[0m\u001b[0;34m\u001b[0m\u001b[0;34m\u001b[0m\u001b[0m\n\u001b[0;32m--> 600\u001b[0;31m         \u001b[0;32mreturn\u001b[0m \u001b[0mweak_wrapped_fn\u001b[0m\u001b[0;34m(\u001b[0m\u001b[0;34m)\u001b[0m\u001b[0;34m.\u001b[0m\u001b[0m__wrapped__\u001b[0m\u001b[0;34m(\u001b[0m\u001b[0;34m*\u001b[0m\u001b[0margs\u001b[0m\u001b[0;34m,\u001b[0m \u001b[0;34m**\u001b[0m\u001b[0mkwds\u001b[0m\u001b[0;34m)\u001b[0m\u001b[0;34m\u001b[0m\u001b[0;34m\u001b[0m\u001b[0m\n\u001b[0m\u001b[1;32m    601\u001b[0m     \u001b[0mweak_wrapped_fn\u001b[0m \u001b[0;34m=\u001b[0m \u001b[0mweakref\u001b[0m\u001b[0;34m.\u001b[0m\u001b[0mref\u001b[0m\u001b[0;34m(\u001b[0m\u001b[0mwrapped_fn\u001b[0m\u001b[0;34m)\u001b[0m\u001b[0;34m\u001b[0m\u001b[0;34m\u001b[0m\u001b[0m\n\u001b[1;32m    602\u001b[0m \u001b[0;34m\u001b[0m\u001b[0m\n",
            "\u001b[0;32m/usr/local/lib/python3.6/dist-packages/tensorflow/python/framework/func_graph.py\u001b[0m in \u001b[0;36mwrapper\u001b[0;34m(*args, **kwargs)\u001b[0m\n\u001b[1;32m    971\u001b[0m           \u001b[0;32mexcept\u001b[0m \u001b[0mException\u001b[0m \u001b[0;32mas\u001b[0m \u001b[0me\u001b[0m\u001b[0;34m:\u001b[0m  \u001b[0;31m# pylint:disable=broad-except\u001b[0m\u001b[0;34m\u001b[0m\u001b[0;34m\u001b[0m\u001b[0m\n\u001b[1;32m    972\u001b[0m             \u001b[0;32mif\u001b[0m \u001b[0mhasattr\u001b[0m\u001b[0;34m(\u001b[0m\u001b[0me\u001b[0m\u001b[0;34m,\u001b[0m \u001b[0;34m\"ag_error_metadata\"\u001b[0m\u001b[0;34m)\u001b[0m\u001b[0;34m:\u001b[0m\u001b[0;34m\u001b[0m\u001b[0;34m\u001b[0m\u001b[0m\n\u001b[0;32m--> 973\u001b[0;31m               \u001b[0;32mraise\u001b[0m \u001b[0me\u001b[0m\u001b[0;34m.\u001b[0m\u001b[0mag_error_metadata\u001b[0m\u001b[0;34m.\u001b[0m\u001b[0mto_exception\u001b[0m\u001b[0;34m(\u001b[0m\u001b[0me\u001b[0m\u001b[0;34m)\u001b[0m\u001b[0;34m\u001b[0m\u001b[0;34m\u001b[0m\u001b[0m\n\u001b[0m\u001b[1;32m    974\u001b[0m             \u001b[0;32melse\u001b[0m\u001b[0;34m:\u001b[0m\u001b[0;34m\u001b[0m\u001b[0;34m\u001b[0m\u001b[0m\n\u001b[1;32m    975\u001b[0m               \u001b[0;32mraise\u001b[0m\u001b[0;34m\u001b[0m\u001b[0;34m\u001b[0m\u001b[0m\n",
            "\u001b[0;31mValueError\u001b[0m: in user code:\n\n    /usr/local/lib/python3.6/dist-packages/tensorflow/python/keras/engine/training.py:806 train_function  *\n        return step_function(self, iterator)\n    <ipython-input-44-179dee7b284c>:11 call  *\n        outputs, new_states = self.simple_rnn_cell(inputs, states)\n    /usr/local/lib/python3.6/dist-packages/tensorflow/python/keras/layers/recurrent.py:720 __call__  **\n        return super(RNN, self).__call__(inputs, **kwargs)\n    /usr/local/lib/python3.6/dist-packages/tensorflow/python/keras/engine/base_layer.py:976 __call__\n        self.name)\n    /usr/local/lib/python3.6/dist-packages/tensorflow/python/keras/engine/input_spec.py:180 assert_input_compatibility\n        str(x.shape.as_list()))\n\n    ValueError: Input 0 of layer simple_rnn_13 is incompatible with the layer: expected ndim=3, found ndim=2. Full shape received: [None, 1]\n"
          ]
        }
      ]
    },
    {
      "cell_type": "code",
      "metadata": {
        "colab": {
          "base_uri": "https://localhost:8080/"
        },
        "id": "iAI-UM8FH9AT",
        "outputId": "4e3e6d5e-a059-4f20-e783-7821113b3a9a"
      },
      "source": [
        "# wavenet\r\n",
        "model = keras.models.Sequential()\r\n",
        "model.add(keras.layers.InputLayer(input_shape=[None, 1]))\r\n",
        "for rate in (1, 2, 4, 8) * 2:\r\n",
        "  model.add(keras.layers.Conv1D(filters=20, kernel_size=2, padding=\"causal\", activation=\"relu\", dilation_rate=rate))\r\n",
        "model.add(keras.layers.Conv1D(filters=10, kernel_size=1))\r\n",
        "model.compile(loss=\"mse\", optimizer=\"adam\", metrics=[last_time_step_mse])\r\n",
        "\r\n",
        "history = model.fit(X_train, Y_train, epochs=20, validation_data=(X_valid, Y_valid))"
      ],
      "execution_count": null,
      "outputs": [
        {
          "output_type": "stream",
          "text": [
            "Epoch 1/20\n",
            "219/219 [==============================] - 3s 15ms/step - loss: 9.8306e-04 - last_time_step_mse: 9.8244e-04 - val_loss: 8.3746e-04 - val_last_time_step_mse: 8.3516e-04\n",
            "Epoch 2/20\n",
            "219/219 [==============================] - 3s 13ms/step - loss: 8.3158e-04 - last_time_step_mse: 8.3329e-04 - val_loss: 8.3725e-04 - val_last_time_step_mse: 8.3545e-04\n",
            "Epoch 3/20\n",
            "219/219 [==============================] - 3s 13ms/step - loss: 8.3145e-04 - last_time_step_mse: 8.3330e-04 - val_loss: 8.3709e-04 - val_last_time_step_mse: 8.3537e-04\n",
            "Epoch 4/20\n",
            "219/219 [==============================] - 3s 14ms/step - loss: 8.3137e-04 - last_time_step_mse: 8.3323e-04 - val_loss: 8.3700e-04 - val_last_time_step_mse: 8.3520e-04\n",
            "Epoch 5/20\n",
            "219/219 [==============================] - 3s 14ms/step - loss: 8.3135e-04 - last_time_step_mse: 8.3314e-04 - val_loss: 8.3752e-04 - val_last_time_step_mse: 8.3640e-04\n",
            "Epoch 6/20\n",
            "219/219 [==============================] - 3s 14ms/step - loss: 8.3151e-04 - last_time_step_mse: 8.3325e-04 - val_loss: 8.3713e-04 - val_last_time_step_mse: 8.3591e-04\n",
            "Epoch 7/20\n",
            "219/219 [==============================] - 3s 13ms/step - loss: 8.3133e-04 - last_time_step_mse: 8.3327e-04 - val_loss: 8.3693e-04 - val_last_time_step_mse: 8.3506e-04\n",
            "Epoch 8/20\n",
            "219/219 [==============================] - 3s 13ms/step - loss: 8.3143e-04 - last_time_step_mse: 8.3331e-04 - val_loss: 8.3703e-04 - val_last_time_step_mse: 8.3514e-04\n",
            "Epoch 9/20\n",
            "219/219 [==============================] - 3s 13ms/step - loss: 8.3141e-04 - last_time_step_mse: 8.3342e-04 - val_loss: 8.3716e-04 - val_last_time_step_mse: 8.3551e-04\n",
            "Epoch 10/20\n",
            "219/219 [==============================] - 3s 13ms/step - loss: 8.3154e-04 - last_time_step_mse: 8.3331e-04 - val_loss: 8.3704e-04 - val_last_time_step_mse: 8.3519e-04\n",
            "Epoch 11/20\n",
            "219/219 [==============================] - 3s 13ms/step - loss: 8.3144e-04 - last_time_step_mse: 8.3338e-04 - val_loss: 8.3716e-04 - val_last_time_step_mse: 8.3550e-04\n",
            "Epoch 12/20\n",
            "219/219 [==============================] - 3s 13ms/step - loss: 8.3157e-04 - last_time_step_mse: 8.3376e-04 - val_loss: 8.3691e-04 - val_last_time_step_mse: 8.3513e-04\n",
            "Epoch 13/20\n",
            "219/219 [==============================] - 3s 13ms/step - loss: 8.3155e-04 - last_time_step_mse: 8.3352e-04 - val_loss: 8.3704e-04 - val_last_time_step_mse: 8.3570e-04\n",
            "Epoch 14/20\n",
            "219/219 [==============================] - 3s 13ms/step - loss: 8.3148e-04 - last_time_step_mse: 8.3337e-04 - val_loss: 8.3701e-04 - val_last_time_step_mse: 8.3567e-04\n",
            "Epoch 15/20\n",
            "219/219 [==============================] - 3s 13ms/step - loss: 8.3146e-04 - last_time_step_mse: 8.3357e-04 - val_loss: 8.3760e-04 - val_last_time_step_mse: 8.3553e-04\n",
            "Epoch 16/20\n",
            "219/219 [==============================] - 3s 13ms/step - loss: 8.3151e-04 - last_time_step_mse: 8.3345e-04 - val_loss: 8.3705e-04 - val_last_time_step_mse: 8.3561e-04\n",
            "Epoch 17/20\n",
            "219/219 [==============================] - 3s 13ms/step - loss: 8.3154e-04 - last_time_step_mse: 8.3329e-04 - val_loss: 8.3805e-04 - val_last_time_step_mse: 8.3721e-04\n",
            "Epoch 18/20\n",
            "219/219 [==============================] - 3s 13ms/step - loss: 8.3166e-04 - last_time_step_mse: 8.3366e-04 - val_loss: 8.3744e-04 - val_last_time_step_mse: 8.3570e-04\n",
            "Epoch 19/20\n",
            "219/219 [==============================] - 3s 13ms/step - loss: 8.3148e-04 - last_time_step_mse: 8.3344e-04 - val_loss: 8.3703e-04 - val_last_time_step_mse: 8.3522e-04\n",
            "Epoch 20/20\n",
            "219/219 [==============================] - 3s 13ms/step - loss: 8.3171e-04 - last_time_step_mse: 8.3356e-04 - val_loss: 8.3694e-04 - val_last_time_step_mse: 8.3508e-04\n"
          ],
          "name": "stdout"
        }
      ]
    },
    {
      "cell_type": "code",
      "metadata": {
        "id": "SvCxooXhODdH"
      },
      "source": [
        ""
      ],
      "execution_count": null,
      "outputs": []
    }
  ]
}