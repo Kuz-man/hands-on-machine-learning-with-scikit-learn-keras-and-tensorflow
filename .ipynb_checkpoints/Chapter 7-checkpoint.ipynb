{
 "cells": [
  {
   "cell_type": "code",
   "execution_count": 2,
   "metadata": {},
   "outputs": [],
   "source": [
    "from sklearn.ensemble import VotingClassifier\n",
    "from sklearn.ensemble import RandomForestClassifier\n",
    "from sklearn.linear_model import LogisticRegression\n",
    "from sklearn.svm import SVC\n",
    "\n",
    "rf_clf = RandomForestClassifier()\n",
    "log_reg = LogisticRegression()\n",
    "svc_clf = SVC()\n",
    "\n",
    "voting_clf = VotingClassifier(\n",
    "    estimators=[('lr', log_reg), ('svc', svc_clf), ('rf', rf_clf)],\n",
    "    voting='hard'\n",
    ")\n",
    "\n",
    "# voting_clf.fit()"
   ]
  },
  {
   "cell_type": "code",
   "execution_count": 4,
   "metadata": {},
   "outputs": [],
   "source": [
    "from sklearn.ensemble import BaggingClassifier\n",
    "from sklearn.tree import DecisionTreeClassifier\n",
    "\n",
    "bagging_clf = BaggingClassifier(\n",
    "    DecisionTreeClassifier(),\n",
    "    n_estimators=500,\n",
    "    max_samples=100,\n",
    "    bootstrap=True,\n",
    "    n_jobs=-1\n",
    ")\n",
    "\n",
    "# bagging_clf.fit()"
   ]
  },
  {
   "cell_type": "code",
   "execution_count": 5,
   "metadata": {},
   "outputs": [],
   "source": [
    "bag_clf = BaggingClassifier(\n",
    "    DecisionTreeClassifier(), n_estimators=500,\n",
    "    bootstrap=True, n_jobs=-1, oob_score=True\n",
    ")\n",
    "\n",
    "# bag_clf.fit(X_train, y_train)\n",
    "\n",
    "# bag_clf.oob_score_"
   ]
  },
  {
   "cell_type": "code",
   "execution_count": 8,
   "metadata": {},
   "outputs": [
    {
     "name": "stdout",
     "output_type": "stream",
     "text": [
      "sepal length (cm) 0.08819881339137708\n",
      "sepal width (cm) 0.020830619769538\n",
      "petal length (cm) 0.4311379991561426\n",
      "petal width (cm) 0.45983256768294295\n"
     ]
    }
   ],
   "source": [
    "from sklearn.datasets import load_iris\n",
    "\n",
    "iris = load_iris()\n",
    "rnd_clf = RandomForestClassifier(n_estimators=500, n_jobs=-1)\n",
    "rnd_clf.fit(iris['data'], iris['target'])\n",
    "for feature_name, score in zip(iris['feature_names'], rnd_clf.feature_importances_):\n",
    "    print(feature_name, score)"
   ]
  },
  {
   "cell_type": "code",
   "execution_count": 10,
   "metadata": {},
   "outputs": [
    {
     "data": {
      "text/plain": [
       "AdaBoostClassifier(algorithm='SAMME.R',\n",
       "          base_estimator=DecisionTreeClassifier(class_weight=None, criterion='gini', max_depth=1,\n",
       "            max_features=None, max_leaf_nodes=None,\n",
       "            min_impurity_decrease=0.0, min_impurity_split=None,\n",
       "            min_samples_leaf=1, min_samples_split=2,\n",
       "            min_weight_fraction_leaf=0.0, presort=False, random_state=None,\n",
       "            splitter='best'),\n",
       "          learning_rate=0.5, n_estimators=200, random_state=None)"
      ]
     },
     "execution_count": 10,
     "metadata": {},
     "output_type": "execute_result"
    }
   ],
   "source": [
    "from sklearn.ensemble import AdaBoostClassifier\n",
    "\n",
    "ada_clf = AdaBoostClassifier(\n",
    "    DecisionTreeClassifier(max_depth=1), n_estimators=200,\n",
    "    algorithm=\"SAMME.R\", learning_rate=0.5\n",
    ")\n",
    "ada_clf.fit(iris['data'], iris['target'])"
   ]
  },
  {
   "cell_type": "code",
   "execution_count": 11,
   "metadata": {},
   "outputs": [
    {
     "data": {
      "text/plain": [
       "GradientBoostingRegressor(alpha=0.9, criterion='friedman_mse', init=None,\n",
       "             learning_rate=1.0, loss='ls', max_depth=2, max_features=None,\n",
       "             max_leaf_nodes=None, min_impurity_decrease=0.0,\n",
       "             min_impurity_split=None, min_samples_leaf=1,\n",
       "             min_samples_split=2, min_weight_fraction_leaf=0.0,\n",
       "             n_estimators=3, n_iter_no_change=None, presort='auto',\n",
       "             random_state=None, subsample=1.0, tol=0.0001,\n",
       "             validation_fraction=0.1, verbose=0, warm_start=False)"
      ]
     },
     "execution_count": 11,
     "metadata": {},
     "output_type": "execute_result"
    }
   ],
   "source": [
    "from sklearn.ensemble import GradientBoostingRegressor\n",
    "\n",
    "gbr = GradientBoostingRegressor(max_depth=2, n_estimators=3, learning_rate=1.)\n",
    "gbr.fit(iris['data'], iris['target'])"
   ]
  },
  {
   "cell_type": "code",
   "execution_count": 15,
   "metadata": {},
   "outputs": [
    {
     "data": {
      "text/plain": [
       "23"
      ]
     },
     "execution_count": 15,
     "metadata": {},
     "output_type": "execute_result"
    }
   ],
   "source": [
    "# early stopping grbt\n",
    "from sklearn.metrics import mean_squared_error\n",
    "from sklearn.model_selection import train_test_split\n",
    "import numpy as np\n",
    "\n",
    "X_train, X_val, y_train, y_val = train_test_split(iris['data'], iris['target'])\n",
    "grbt = GradientBoostingRegressor(n_estimators=120, max_depth=2)\n",
    "grbt.fit(X_train, y_train)\n",
    "\n",
    "errors = [mean_squared_error(y_pred, y_val) for y_pred in grbt.staged_predict(X_val)]\n",
    "\n",
    "bst_n_estimators = np.argmin(errors)\n",
    "\n",
    "bst_n_estimators"
   ]
  },
  {
   "cell_type": "code",
   "execution_count": 16,
   "metadata": {},
   "outputs": [
    {
     "data": {
      "text/plain": [
       "GradientBoostingRegressor(alpha=0.9, criterion='friedman_mse', init=None,\n",
       "             learning_rate=0.1, loss='ls', max_depth=2, max_features=None,\n",
       "             max_leaf_nodes=None, min_impurity_decrease=0.0,\n",
       "             min_impurity_split=None, min_samples_leaf=1,\n",
       "             min_samples_split=2, min_weight_fraction_leaf=0.0,\n",
       "             n_estimators=23, n_iter_no_change=None, presort='auto',\n",
       "             random_state=None, subsample=1.0, tol=0.0001,\n",
       "             validation_fraction=0.1, verbose=0, warm_start=False)"
      ]
     },
     "execution_count": 16,
     "metadata": {},
     "output_type": "execute_result"
    }
   ],
   "source": [
    "grbt_best = GradientBoostingRegressor(n_estimators=bst_n_estimators, max_depth=2)\n",
    "grbt_best.fit(X_train, y_train)"
   ]
  },
  {
   "cell_type": "code",
   "execution_count": 17,
   "metadata": {},
   "outputs": [
    {
     "data": {
      "text/plain": [
       "[0.5772238772153598,\n",
       " 0.47284972885296495,\n",
       " 0.3877584303738292,\n",
       " 0.32165198897614666,\n",
       " 0.2666056124804042,\n",
       " 0.2235243502339237,\n",
       " 0.18944394232720532,\n",
       " 0.16247838789995217,\n",
       " 0.14147444768511108,\n",
       " 0.12498862594244219,\n",
       " 0.11220013048384432,\n",
       " 0.10241434633033265,\n",
       " 0.09502016180468102,\n",
       " 0.08939484371701188,\n",
       " 0.08536584703779355,\n",
       " 0.08246674006679543,\n",
       " 0.0787122250842512,\n",
       " 0.07753980359449474,\n",
       " 0.07781466738955396,\n",
       " 0.07664618974972649,\n",
       " 0.07635446521083707,\n",
       " 0.07521086692546705,\n",
       " 0.07538769747669899,\n",
       " 0.07475578675421352,\n",
       " 0.07517577866109572,\n",
       " 0.07564851598327983,\n",
       " 0.07615576961101922,\n",
       " 0.07601326720305214,\n",
       " 0.07655550918790725,\n",
       " 0.07666842307341237,\n",
       " 0.07709100446707506,\n",
       " 0.07910842441333697,\n",
       " 0.07942369596631889,\n",
       " 0.08133199887017302,\n",
       " 0.0817260749243672,\n",
       " 0.08204469892486184,\n",
       " 0.0826004988549779,\n",
       " 0.08298765649021263,\n",
       " 0.08354992530879757,\n",
       " 0.08391177723059955,\n",
       " 0.08435608043599,\n",
       " 0.0844790049343624,\n",
       " 0.08488438805302152,\n",
       " 0.08534961736029618,\n",
       " 0.08566274494192977,\n",
       " 0.08595960836748551,\n",
       " 0.08631912662365619,\n",
       " 0.08667101486422472,\n",
       " 0.0870541192208996,\n",
       " 0.08880540128048214,\n",
       " 0.0891302969842977,\n",
       " 0.08951966771176191,\n",
       " 0.08991239913045167,\n",
       " 0.0896750237543743,\n",
       " 0.08961476904926674,\n",
       " 0.08982213959703833,\n",
       " 0.08989599105300453,\n",
       " 0.0902099776321869,\n",
       " 0.0903489910546038,\n",
       " 0.09041276823074701,\n",
       " 0.09100615903186342,\n",
       " 0.09108352450789274,\n",
       " 0.09136603410242909,\n",
       " 0.09131351821635791,\n",
       " 0.0914140418191933,\n",
       " 0.09145458863513932,\n",
       " 0.09120510633610295,\n",
       " 0.09129514058949098,\n",
       " 0.09133088609750642,\n",
       " 0.09143635983021439,\n",
       " 0.0915455130901339,\n",
       " 0.09157818127328525,\n",
       " 0.0916616428796897,\n",
       " 0.09220418032391677,\n",
       " 0.09228283364139098,\n",
       " 0.0922896474931266,\n",
       " 0.09232190493494197,\n",
       " 0.09241225091630816,\n",
       " 0.09248464459663508,\n",
       " 0.09258664440279478,\n",
       " 0.09261480364469701,\n",
       " 0.09306735574512728,\n",
       " 0.09307875524275044,\n",
       " 0.09329372604048962,\n",
       " 0.09280029903246466,\n",
       " 0.09261466937073251,\n",
       " 0.09255197331652902,\n",
       " 0.09251205749945178,\n",
       " 0.09223739701042459,\n",
       " 0.09218179687142368,\n",
       " 0.09211745388920746,\n",
       " 0.09228671089816469,\n",
       " 0.09238908068000047,\n",
       " 0.09241990380776108,\n",
       " 0.0923351150875158,\n",
       " 0.09209212835720626,\n",
       " 0.09226823198746005,\n",
       " 0.09234766673111053,\n",
       " 0.09242717715602002,\n",
       " 0.09249228368738949,\n",
       " 0.09239810675824942,\n",
       " 0.09234967480914298,\n",
       " 0.09241275778898474,\n",
       " 0.09244235663074597,\n",
       " 0.0924342687906767,\n",
       " 0.09287621326034615,\n",
       " 0.09293946852393571,\n",
       " 0.09293169260875177,\n",
       " 0.09301360651383403,\n",
       " 0.09307231619381327,\n",
       " 0.09349015226512196,\n",
       " 0.0934565389308567,\n",
       " 0.0934416291866746,\n",
       " 0.09384214727437923,\n",
       " 0.0938318120717924,\n",
       " 0.0938254109748109,\n",
       " 0.09391967056809496,\n",
       " 0.09398976564799234,\n",
       " 0.0940833600132488,\n",
       " 0.09407841563432935]"
      ]
     },
     "execution_count": 17,
     "metadata": {},
     "output_type": "execute_result"
    }
   ],
   "source": [
    "errors"
   ]
  },
  {
   "cell_type": "code",
   "execution_count": null,
   "metadata": {},
   "outputs": [],
   "source": []
  }
 ],
 "metadata": {
  "kernelspec": {
   "display_name": "Python 3",
   "language": "python",
   "name": "python3"
  },
  "language_info": {
   "codemirror_mode": {
    "name": "ipython",
    "version": 3
   },
   "file_extension": ".py",
   "mimetype": "text/x-python",
   "name": "python",
   "nbconvert_exporter": "python",
   "pygments_lexer": "ipython3",
   "version": "3.6.8"
  }
 },
 "nbformat": 4,
 "nbformat_minor": 2
}
