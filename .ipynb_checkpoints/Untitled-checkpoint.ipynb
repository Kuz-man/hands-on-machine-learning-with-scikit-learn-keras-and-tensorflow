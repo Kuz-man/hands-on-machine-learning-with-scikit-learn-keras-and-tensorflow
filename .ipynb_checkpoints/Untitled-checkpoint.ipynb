{
 "cells": [
  {
   "cell_type": "code",
   "execution_count": 3,
   "metadata": {},
   "outputs": [],
   "source": [
    "import pandas as pd\n",
    "import os\n",
    "\n",
    "path_to_files = '/home/kuzman/Desktop/cik_eu_izbori_2019_csv'"
   ]
  },
  {
   "cell_type": "code",
   "execution_count": 10,
   "metadata": {},
   "outputs": [],
   "source": [
    "sections_path = os.path.join(path_to_files, 'sections.txt')\n",
    "\n",
    "sections_header = ['code', 'admin_id', 'admin_name', 'ekatte', 'location', 'mobile_section', 'ship_flag', 'machine_voting']\n",
    "\n",
    "sections = pd.read_csv(sections_path, sep=';', names=sections_header)"
   ]
  },
  {
   "cell_type": "code",
   "execution_count": 26,
   "metadata": {},
   "outputs": [],
   "source": [
    "machine_voting_sections = sections[sections['machine_voting'] == 1]['code'].values"
   ]
  },
  {
   "cell_type": "code",
   "execution_count": 27,
   "metadata": {},
   "outputs": [
    {
     "data": {
      "text/plain": [
       "array([ 10100001,  10100004,  10100007, ..., 312600094, 312600097,\n",
       "       312600100])"
      ]
     },
     "execution_count": 27,
     "metadata": {},
     "output_type": "execute_result"
    }
   ],
   "source": [
    "machine_voting_sections"
   ]
  },
  {
   "cell_type": "code",
   "execution_count": null,
   "metadata": {},
   "outputs": [],
   "source": [
    "votes_path = os.path.join(path_to_files, 'votes.txt')\n",
    "votes_mv_path = os.path.join(path_to_files, 'votes_mv.txt')"
   ]
  },
  {
   "cell_type": "code",
   "execution_count": null,
   "metadata": {},
   "outputs": [],
   "source": []
  }
 ],
 "metadata": {
  "kernelspec": {
   "display_name": "Python 3",
   "language": "python",
   "name": "python3"
  },
  "language_info": {
   "codemirror_mode": {
    "name": "ipython",
    "version": 3
   },
   "file_extension": ".py",
   "mimetype": "text/x-python",
   "name": "python",
   "nbconvert_exporter": "python",
   "pygments_lexer": "ipython3",
   "version": "3.6.4"
  }
 },
 "nbformat": 4,
 "nbformat_minor": 2
}
